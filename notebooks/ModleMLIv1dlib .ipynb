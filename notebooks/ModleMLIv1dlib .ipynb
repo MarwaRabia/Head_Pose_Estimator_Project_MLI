{
  "cells": [
    {
      "cell_type": "code",
      "execution_count": null,
      "metadata": {
        "id": "3QqRaz1RScIU"
      },
      "outputs": [],
      "source": [
        "!unrar x \"/content/drive/MyDrive/image.rar\""
      ]
    },
    {
      "cell_type": "markdown",
      "metadata": {
        "id": "RuiLBWkzJixB"
      },
      "source": [
        "\n",
        "\n",
        "# New Section"
      ]
    },
    {
      "cell_type": "code",
      "execution_count": null,
      "metadata": {
        "id": "lzdB56HA9GEw"
      },
      "outputs": [],
      "source": [
        "import numpy as np\n",
        "import scipy.io as sio\n",
        "import dlib\n",
        "import pandas as pd\n",
        "from PIL import Image, ImageFilter\n",
        "import matplotlib.pyplot as plt\n",
        "from sklearn.model_selection import train_test_split\n",
        "from google.colab.patches import cv2_imshow\n",
        "from sklearn.datasets import make_regression\n",
        "from sklearn.linear_model import LinearRegression\n",
        "from sklearn.metrics import mean_squared_error \n",
        "from sklearn.metrics import r2_score\n",
        "from imutils import face_utils\n",
        "import os,cv2,math,glob,random\n",
        "import scipy.io as sio\n",
        "from math import cos, sin\n",
        "from pathlib import Path\n",
        "import warnings\n",
        "warnings.filterwarnings('ignore')\n",
        "from sklearn.tree import DecisionTreeRegressor\n",
        "from sklearn.ensemble import RandomForestRegressor\n",
        "from sklearn.svm import SVR\n",
        "from sklearn.linear_model import Ridge\n",
        "from sklearn.linear_model import Lasso\n",
        "import pickle\n"
      ]
    },
    {
      "cell_type": "code",
      "execution_count": null,
      "metadata": {
        "id": "Ok1FRJLh57qw"
      },
      "outputs": [],
      "source": [
        "def get_list_from_filenames(file_path):\n",
        "    # input:    relative path to .mat file with file names\n",
        "    # output:   list of relative path names\n",
        "\n",
        "    lines = [Path(f).stem for f in glob.glob(file_path)]\n",
        "    return lines"
      ]
    },
    {
      "cell_type": "code",
      "execution_count": null,
      "metadata": {
        "id": "Vjxt-znj9bKM"
      },
      "outputs": [],
      "source": [
        "def read_path(path):\n",
        "    \n",
        "    mat = sio.loadmat(path)\n",
        "    # print(mat)\n",
        "    landmarks = mat['pt2d']\n",
        "    pt3d=mat['pt2d']\n",
        "    # print(pt3d.shape)\n",
        "    pre_pose_params = mat['Pose_Para'][0]\n",
        "    # Get [pitch, yaw, roll]\n",
        "    pose_params = pre_pose_params[:3]\n",
        "    return pt3d, pose_params"
      ]
    },
    {
      "cell_type": "code",
      "execution_count": null,
      "metadata": {
        "id": "R7bZdEoW93pO"
      },
      "outputs": [],
      "source": [
        "\n",
        "\n",
        "class AFLW2000():\n",
        "    def __init__(self, data_dir,file_path, img_ext='.jpg', annot_ext='.mat', image_mode='RGB'):\n",
        "        self.data_dir = data_dir\n",
        "        self.file_path = file_path\n",
        "        self.img_ext = img_ext\n",
        "        self.annot_ext = annot_ext\n",
        "\n",
        "        filename_list = get_list_from_filenames(data_dir)\n",
        "        filename_list.sort()\n",
        "        \n",
        "        self.X_train = filename_list\n",
        "        self.y_train = filename_list\n",
        "        self.image_mode = image_mode\n",
        "        self.length = len(filename_list)\n",
        "\n",
        "    def __getitem__(self, index):\n",
        "      \n",
        "        mat_path = os.path.join(self.file_path,self.y_train[index] + self.annot_ext)\n",
        "\n",
        "        pt3d,pose = read_path(mat_path)\n",
        "        X=pt3d[0]\n",
        "        Y=pt3d[1]\n",
        "\n",
        "        pitch = pose[0]\n",
        "        yaw = pose[1]\n",
        "        roll = pose[2]\n",
        "\n",
        "        return pt3d,X,Y,pitch, yaw, roll \n",
        "\n",
        "    def __len__(self):\n",
        "        # 2,000\n",
        "        return self.length"
      ]
    },
    {
      "cell_type": "code",
      "execution_count": null,
      "metadata": {
        "id": "EU1U1FZH63yX"
      },
      "outputs": [],
      "source": [
        "demo=AFLW2000(\"/content/image/*.mat\",'/content/image/')"
      ]
    },
    {
      "cell_type": "code",
      "execution_count": null,
      "metadata": {
        "id": "NoXasZZm664a"
      },
      "outputs": [],
      "source": [
        "l=demo.__len__()\n",
        "landmarks_x = ['x' + str(i) for i in range(68)]\n",
        "landmarks_y = ['y' + str(i) for i in range(68)]\n",
        "features = landmarks_x + landmarks_y\n",
        "labels = ['pitch', 'yaw', 'roll']\n",
        "df = pd.DataFrame(columns = features + labels)\n",
        "\n",
        "for i in range(l):\n",
        "    pla=demo.__getitem__(i)\n",
        "    landmarks=pla[0]\n",
        "    x=pla[1]\n",
        "    y=pla[2]\n",
        "    p=pla[3]\n",
        "    ya=pla[4]\n",
        "    r=pla[5]\n",
        "    featuress=landmarks[0:2].reshape(1, -1)\n",
        "    row = np.append(featuress, [p, ya, r]).reshape(1, -1)\n",
        "    df2 =pd.DataFrame(row, columns = features + labels)\n",
        "    df = df.append(df2)\n",
        "     "
      ]
    },
    {
      "cell_type": "code",
      "execution_count": null,
      "metadata": {
        "colab": {
          "base_uri": "https://localhost:8080/",
          "height": 488
        },
        "id": "nKr3-G2oFqdM",
        "outputId": "a5931c27-39c3-473d-9d9c-50a318162d6b"
      },
      "outputs": [
        {
          "output_type": "execute_result",
          "data": {
            "text/plain": [
              "            x0          x1          x2          x3          x4          x5  \\\n",
              "0   137.156428  137.830934  139.467255  141.279452  141.845711  148.380614   \n",
              "0   137.520039  137.067240  139.170004  144.004460  156.527892  172.574004   \n",
              "0   136.692121  142.459660  149.636518  156.871612  167.289763  187.537653   \n",
              "0   139.402934  137.137072  137.869077  142.290540  148.955175  158.868286   \n",
              "0   152.363532  148.395796  147.101928  145.545693  144.960987  149.733557   \n",
              "..         ...         ...         ...         ...         ...         ...   \n",
              "0   137.477922  140.322587  145.004330  151.406677  157.410661  166.953803   \n",
              "0   137.212308  138.417467  147.193430  149.082307  155.515616  165.400751   \n",
              "0   139.306397  140.661847  144.058214  150.270052  161.539585  182.756261   \n",
              "0   136.644660  144.185406  153.634062  166.538750  176.892116  191.307446   \n",
              "0   137.218995  142.147298  149.220795  152.890428  160.603834  171.173395   \n",
              "\n",
              "            x6          x7          x8          x9  ...         y58  \\\n",
              "0   158.557841  182.446123  213.561180  249.319901  ...  340.233328   \n",
              "0   191.335762  208.944920  224.820220  238.567640  ...  336.541809   \n",
              "0   208.031410  232.661122  254.746258  272.881311  ...  328.411225   \n",
              "0   173.000984  189.719274  210.634210  231.768461  ...  326.097884   \n",
              "0   158.419122  169.856264  186.146577  210.054776  ...  342.796171   \n",
              "..         ...         ...         ...         ...  ...         ...   \n",
              "0   183.937669  201.824484  228.487234  254.215693  ...  346.130391   \n",
              "0   177.007272  186.563665  209.033253  234.349085  ...  340.356463   \n",
              "0   207.843797  224.719158  245.786749  261.630053  ...  340.349265   \n",
              "0   214.485980  242.892889  264.242263  283.947499  ...  345.405353   \n",
              "0   188.132631  207.959477  231.690852  252.512091  ...  343.365427   \n",
              "\n",
              "           y59         y60         y61         y62         y63         y64  \\\n",
              "0   335.507909  328.212727  323.610026  323.315682  323.864538  332.131449   \n",
              "0   333.759129  324.181775  317.226411  318.194654  318.424150  328.860198   \n",
              "0   324.589953  318.827068  307.766649  308.413511  310.826352  323.993596   \n",
              "0   324.726275  323.735874  318.233333  318.866043  319.636823  327.293730   \n",
              "0   338.116753  325.847738  328.134886  328.810181  330.997219  341.828855   \n",
              "..         ...         ...         ...         ...         ...         ...   \n",
              "0   343.169155  336.578002  334.504095  335.283158  332.768541  328.037343   \n",
              "0   336.656086  329.484845  329.326186  330.290313  327.873910  323.472378   \n",
              "0   330.817248  308.982878  308.768863  310.063691  308.229620  308.769878   \n",
              "0   348.538902  338.961125  337.211476  334.937656  328.739694  319.174212   \n",
              "0   336.387836  323.079806  319.013242  319.015642  315.896664  312.763997   \n",
              "\n",
              "           y65         y66         y67  \n",
              "0   327.549283  328.713911  326.593151  \n",
              "0   330.260298  330.569219  328.386203  \n",
              "0   322.159797  321.714763  320.051381  \n",
              "0   319.636823  318.866043  318.233333  \n",
              "0   338.271321  336.162770  333.362086  \n",
              "..         ...         ...         ...  \n",
              "0   332.768541  335.283158  334.504095  \n",
              "0   327.873910  330.290313  329.326186  \n",
              "0   326.542869  328.907638  329.180412  \n",
              "0   328.739694  334.937656  337.211476  \n",
              "0   330.207874  333.340393  332.185710  \n",
              "\n",
              "[3837 rows x 136 columns]"
            ],
            "text/html": [
              "\n",
              "  <div id=\"df-975b4ab8-497f-4734-a281-14aa124016e8\">\n",
              "    <div class=\"colab-df-container\">\n",
              "      <div>\n",
              "<style scoped>\n",
              "    .dataframe tbody tr th:only-of-type {\n",
              "        vertical-align: middle;\n",
              "    }\n",
              "\n",
              "    .dataframe tbody tr th {\n",
              "        vertical-align: top;\n",
              "    }\n",
              "\n",
              "    .dataframe thead th {\n",
              "        text-align: right;\n",
              "    }\n",
              "</style>\n",
              "<table border=\"1\" class=\"dataframe\">\n",
              "  <thead>\n",
              "    <tr style=\"text-align: right;\">\n",
              "      <th></th>\n",
              "      <th>x0</th>\n",
              "      <th>x1</th>\n",
              "      <th>x2</th>\n",
              "      <th>x3</th>\n",
              "      <th>x4</th>\n",
              "      <th>x5</th>\n",
              "      <th>x6</th>\n",
              "      <th>x7</th>\n",
              "      <th>x8</th>\n",
              "      <th>x9</th>\n",
              "      <th>...</th>\n",
              "      <th>y58</th>\n",
              "      <th>y59</th>\n",
              "      <th>y60</th>\n",
              "      <th>y61</th>\n",
              "      <th>y62</th>\n",
              "      <th>y63</th>\n",
              "      <th>y64</th>\n",
              "      <th>y65</th>\n",
              "      <th>y66</th>\n",
              "      <th>y67</th>\n",
              "    </tr>\n",
              "  </thead>\n",
              "  <tbody>\n",
              "    <tr>\n",
              "      <th>0</th>\n",
              "      <td>137.156428</td>\n",
              "      <td>137.830934</td>\n",
              "      <td>139.467255</td>\n",
              "      <td>141.279452</td>\n",
              "      <td>141.845711</td>\n",
              "      <td>148.380614</td>\n",
              "      <td>158.557841</td>\n",
              "      <td>182.446123</td>\n",
              "      <td>213.561180</td>\n",
              "      <td>249.319901</td>\n",
              "      <td>...</td>\n",
              "      <td>340.233328</td>\n",
              "      <td>335.507909</td>\n",
              "      <td>328.212727</td>\n",
              "      <td>323.610026</td>\n",
              "      <td>323.315682</td>\n",
              "      <td>323.864538</td>\n",
              "      <td>332.131449</td>\n",
              "      <td>327.549283</td>\n",
              "      <td>328.713911</td>\n",
              "      <td>326.593151</td>\n",
              "    </tr>\n",
              "    <tr>\n",
              "      <th>0</th>\n",
              "      <td>137.520039</td>\n",
              "      <td>137.067240</td>\n",
              "      <td>139.170004</td>\n",
              "      <td>144.004460</td>\n",
              "      <td>156.527892</td>\n",
              "      <td>172.574004</td>\n",
              "      <td>191.335762</td>\n",
              "      <td>208.944920</td>\n",
              "      <td>224.820220</td>\n",
              "      <td>238.567640</td>\n",
              "      <td>...</td>\n",
              "      <td>336.541809</td>\n",
              "      <td>333.759129</td>\n",
              "      <td>324.181775</td>\n",
              "      <td>317.226411</td>\n",
              "      <td>318.194654</td>\n",
              "      <td>318.424150</td>\n",
              "      <td>328.860198</td>\n",
              "      <td>330.260298</td>\n",
              "      <td>330.569219</td>\n",
              "      <td>328.386203</td>\n",
              "    </tr>\n",
              "    <tr>\n",
              "      <th>0</th>\n",
              "      <td>136.692121</td>\n",
              "      <td>142.459660</td>\n",
              "      <td>149.636518</td>\n",
              "      <td>156.871612</td>\n",
              "      <td>167.289763</td>\n",
              "      <td>187.537653</td>\n",
              "      <td>208.031410</td>\n",
              "      <td>232.661122</td>\n",
              "      <td>254.746258</td>\n",
              "      <td>272.881311</td>\n",
              "      <td>...</td>\n",
              "      <td>328.411225</td>\n",
              "      <td>324.589953</td>\n",
              "      <td>318.827068</td>\n",
              "      <td>307.766649</td>\n",
              "      <td>308.413511</td>\n",
              "      <td>310.826352</td>\n",
              "      <td>323.993596</td>\n",
              "      <td>322.159797</td>\n",
              "      <td>321.714763</td>\n",
              "      <td>320.051381</td>\n",
              "    </tr>\n",
              "    <tr>\n",
              "      <th>0</th>\n",
              "      <td>139.402934</td>\n",
              "      <td>137.137072</td>\n",
              "      <td>137.869077</td>\n",
              "      <td>142.290540</td>\n",
              "      <td>148.955175</td>\n",
              "      <td>158.868286</td>\n",
              "      <td>173.000984</td>\n",
              "      <td>189.719274</td>\n",
              "      <td>210.634210</td>\n",
              "      <td>231.768461</td>\n",
              "      <td>...</td>\n",
              "      <td>326.097884</td>\n",
              "      <td>324.726275</td>\n",
              "      <td>323.735874</td>\n",
              "      <td>318.233333</td>\n",
              "      <td>318.866043</td>\n",
              "      <td>319.636823</td>\n",
              "      <td>327.293730</td>\n",
              "      <td>319.636823</td>\n",
              "      <td>318.866043</td>\n",
              "      <td>318.233333</td>\n",
              "    </tr>\n",
              "    <tr>\n",
              "      <th>0</th>\n",
              "      <td>152.363532</td>\n",
              "      <td>148.395796</td>\n",
              "      <td>147.101928</td>\n",
              "      <td>145.545693</td>\n",
              "      <td>144.960987</td>\n",
              "      <td>149.733557</td>\n",
              "      <td>158.419122</td>\n",
              "      <td>169.856264</td>\n",
              "      <td>186.146577</td>\n",
              "      <td>210.054776</td>\n",
              "      <td>...</td>\n",
              "      <td>342.796171</td>\n",
              "      <td>338.116753</td>\n",
              "      <td>325.847738</td>\n",
              "      <td>328.134886</td>\n",
              "      <td>328.810181</td>\n",
              "      <td>330.997219</td>\n",
              "      <td>341.828855</td>\n",
              "      <td>338.271321</td>\n",
              "      <td>336.162770</td>\n",
              "      <td>333.362086</td>\n",
              "    </tr>\n",
              "    <tr>\n",
              "      <th>...</th>\n",
              "      <td>...</td>\n",
              "      <td>...</td>\n",
              "      <td>...</td>\n",
              "      <td>...</td>\n",
              "      <td>...</td>\n",
              "      <td>...</td>\n",
              "      <td>...</td>\n",
              "      <td>...</td>\n",
              "      <td>...</td>\n",
              "      <td>...</td>\n",
              "      <td>...</td>\n",
              "      <td>...</td>\n",
              "      <td>...</td>\n",
              "      <td>...</td>\n",
              "      <td>...</td>\n",
              "      <td>...</td>\n",
              "      <td>...</td>\n",
              "      <td>...</td>\n",
              "      <td>...</td>\n",
              "      <td>...</td>\n",
              "      <td>...</td>\n",
              "    </tr>\n",
              "    <tr>\n",
              "      <th>0</th>\n",
              "      <td>137.477922</td>\n",
              "      <td>140.322587</td>\n",
              "      <td>145.004330</td>\n",
              "      <td>151.406677</td>\n",
              "      <td>157.410661</td>\n",
              "      <td>166.953803</td>\n",
              "      <td>183.937669</td>\n",
              "      <td>201.824484</td>\n",
              "      <td>228.487234</td>\n",
              "      <td>254.215693</td>\n",
              "      <td>...</td>\n",
              "      <td>346.130391</td>\n",
              "      <td>343.169155</td>\n",
              "      <td>336.578002</td>\n",
              "      <td>334.504095</td>\n",
              "      <td>335.283158</td>\n",
              "      <td>332.768541</td>\n",
              "      <td>328.037343</td>\n",
              "      <td>332.768541</td>\n",
              "      <td>335.283158</td>\n",
              "      <td>334.504095</td>\n",
              "    </tr>\n",
              "    <tr>\n",
              "      <th>0</th>\n",
              "      <td>137.212308</td>\n",
              "      <td>138.417467</td>\n",
              "      <td>147.193430</td>\n",
              "      <td>149.082307</td>\n",
              "      <td>155.515616</td>\n",
              "      <td>165.400751</td>\n",
              "      <td>177.007272</td>\n",
              "      <td>186.563665</td>\n",
              "      <td>209.033253</td>\n",
              "      <td>234.349085</td>\n",
              "      <td>...</td>\n",
              "      <td>340.356463</td>\n",
              "      <td>336.656086</td>\n",
              "      <td>329.484845</td>\n",
              "      <td>329.326186</td>\n",
              "      <td>330.290313</td>\n",
              "      <td>327.873910</td>\n",
              "      <td>323.472378</td>\n",
              "      <td>327.873910</td>\n",
              "      <td>330.290313</td>\n",
              "      <td>329.326186</td>\n",
              "    </tr>\n",
              "    <tr>\n",
              "      <th>0</th>\n",
              "      <td>139.306397</td>\n",
              "      <td>140.661847</td>\n",
              "      <td>144.058214</td>\n",
              "      <td>150.270052</td>\n",
              "      <td>161.539585</td>\n",
              "      <td>182.756261</td>\n",
              "      <td>207.843797</td>\n",
              "      <td>224.719158</td>\n",
              "      <td>245.786749</td>\n",
              "      <td>261.630053</td>\n",
              "      <td>...</td>\n",
              "      <td>340.349265</td>\n",
              "      <td>330.817248</td>\n",
              "      <td>308.982878</td>\n",
              "      <td>308.768863</td>\n",
              "      <td>310.063691</td>\n",
              "      <td>308.229620</td>\n",
              "      <td>308.769878</td>\n",
              "      <td>326.542869</td>\n",
              "      <td>328.907638</td>\n",
              "      <td>329.180412</td>\n",
              "    </tr>\n",
              "    <tr>\n",
              "      <th>0</th>\n",
              "      <td>136.644660</td>\n",
              "      <td>144.185406</td>\n",
              "      <td>153.634062</td>\n",
              "      <td>166.538750</td>\n",
              "      <td>176.892116</td>\n",
              "      <td>191.307446</td>\n",
              "      <td>214.485980</td>\n",
              "      <td>242.892889</td>\n",
              "      <td>264.242263</td>\n",
              "      <td>283.947499</td>\n",
              "      <td>...</td>\n",
              "      <td>345.405353</td>\n",
              "      <td>348.538902</td>\n",
              "      <td>338.961125</td>\n",
              "      <td>337.211476</td>\n",
              "      <td>334.937656</td>\n",
              "      <td>328.739694</td>\n",
              "      <td>319.174212</td>\n",
              "      <td>328.739694</td>\n",
              "      <td>334.937656</td>\n",
              "      <td>337.211476</td>\n",
              "    </tr>\n",
              "    <tr>\n",
              "      <th>0</th>\n",
              "      <td>137.218995</td>\n",
              "      <td>142.147298</td>\n",
              "      <td>149.220795</td>\n",
              "      <td>152.890428</td>\n",
              "      <td>160.603834</td>\n",
              "      <td>171.173395</td>\n",
              "      <td>188.132631</td>\n",
              "      <td>207.959477</td>\n",
              "      <td>231.690852</td>\n",
              "      <td>252.512091</td>\n",
              "      <td>...</td>\n",
              "      <td>343.365427</td>\n",
              "      <td>336.387836</td>\n",
              "      <td>323.079806</td>\n",
              "      <td>319.013242</td>\n",
              "      <td>319.015642</td>\n",
              "      <td>315.896664</td>\n",
              "      <td>312.763997</td>\n",
              "      <td>330.207874</td>\n",
              "      <td>333.340393</td>\n",
              "      <td>332.185710</td>\n",
              "    </tr>\n",
              "  </tbody>\n",
              "</table>\n",
              "<p>3837 rows × 136 columns</p>\n",
              "</div>\n",
              "      <button class=\"colab-df-convert\" onclick=\"convertToInteractive('df-975b4ab8-497f-4734-a281-14aa124016e8')\"\n",
              "              title=\"Convert this dataframe to an interactive table.\"\n",
              "              style=\"display:none;\">\n",
              "        \n",
              "  <svg xmlns=\"http://www.w3.org/2000/svg\" height=\"24px\"viewBox=\"0 0 24 24\"\n",
              "       width=\"24px\">\n",
              "    <path d=\"M0 0h24v24H0V0z\" fill=\"none\"/>\n",
              "    <path d=\"M18.56 5.44l.94 2.06.94-2.06 2.06-.94-2.06-.94-.94-2.06-.94 2.06-2.06.94zm-11 1L8.5 8.5l.94-2.06 2.06-.94-2.06-.94L8.5 2.5l-.94 2.06-2.06.94zm10 10l.94 2.06.94-2.06 2.06-.94-2.06-.94-.94-2.06-.94 2.06-2.06.94z\"/><path d=\"M17.41 7.96l-1.37-1.37c-.4-.4-.92-.59-1.43-.59-.52 0-1.04.2-1.43.59L10.3 9.45l-7.72 7.72c-.78.78-.78 2.05 0 2.83L4 21.41c.39.39.9.59 1.41.59.51 0 1.02-.2 1.41-.59l7.78-7.78 2.81-2.81c.8-.78.8-2.07 0-2.86zM5.41 20L4 18.59l7.72-7.72 1.47 1.35L5.41 20z\"/>\n",
              "  </svg>\n",
              "      </button>\n",
              "      \n",
              "  <style>\n",
              "    .colab-df-container {\n",
              "      display:flex;\n",
              "      flex-wrap:wrap;\n",
              "      gap: 12px;\n",
              "    }\n",
              "\n",
              "    .colab-df-convert {\n",
              "      background-color: #E8F0FE;\n",
              "      border: none;\n",
              "      border-radius: 50%;\n",
              "      cursor: pointer;\n",
              "      display: none;\n",
              "      fill: #1967D2;\n",
              "      height: 32px;\n",
              "      padding: 0 0 0 0;\n",
              "      width: 32px;\n",
              "    }\n",
              "\n",
              "    .colab-df-convert:hover {\n",
              "      background-color: #E2EBFA;\n",
              "      box-shadow: 0px 1px 2px rgba(60, 64, 67, 0.3), 0px 1px 3px 1px rgba(60, 64, 67, 0.15);\n",
              "      fill: #174EA6;\n",
              "    }\n",
              "\n",
              "    [theme=dark] .colab-df-convert {\n",
              "      background-color: #3B4455;\n",
              "      fill: #D2E3FC;\n",
              "    }\n",
              "\n",
              "    [theme=dark] .colab-df-convert:hover {\n",
              "      background-color: #434B5C;\n",
              "      box-shadow: 0px 1px 3px 1px rgba(0, 0, 0, 0.15);\n",
              "      filter: drop-shadow(0px 1px 2px rgba(0, 0, 0, 0.3));\n",
              "      fill: #FFFFFF;\n",
              "    }\n",
              "  </style>\n",
              "\n",
              "      <script>\n",
              "        const buttonEl =\n",
              "          document.querySelector('#df-975b4ab8-497f-4734-a281-14aa124016e8 button.colab-df-convert');\n",
              "        buttonEl.style.display =\n",
              "          google.colab.kernel.accessAllowed ? 'block' : 'none';\n",
              "\n",
              "        async function convertToInteractive(key) {\n",
              "          const element = document.querySelector('#df-975b4ab8-497f-4734-a281-14aa124016e8');\n",
              "          const dataTable =\n",
              "            await google.colab.kernel.invokeFunction('convertToInteractive',\n",
              "                                                     [key], {});\n",
              "          if (!dataTable) return;\n",
              "\n",
              "          const docLinkHtml = 'Like what you see? Visit the ' +\n",
              "            '<a target=\"_blank\" href=https://colab.research.google.com/notebooks/data_table.ipynb>data table notebook</a>'\n",
              "            + ' to learn more about interactive tables.';\n",
              "          element.innerHTML = '';\n",
              "          dataTable['output_type'] = 'display_data';\n",
              "          await google.colab.output.renderOutput(dataTable, element);\n",
              "          const docLink = document.createElement('div');\n",
              "          docLink.innerHTML = docLinkHtml;\n",
              "          element.appendChild(docLink);\n",
              "        }\n",
              "      </script>\n",
              "    </div>\n",
              "  </div>\n",
              "  "
            ]
          },
          "metadata": {},
          "execution_count": 16
        }
      ],
      "source": [
        "df[features]"
      ]
    },
    {
      "cell_type": "code",
      "execution_count": null,
      "metadata": {
        "id": "jsn1yIW18BfN"
      },
      "outputs": [],
      "source": [
        "X_train, X_test, y_train, y_test = train_test_split(df[features], df[labels], test_size=0.2, random_state=42)\n",
        "# split y_train into pitch, yaw, roll\n",
        "y_train_pitch = y_train['pitch']\n",
        "y_train_yaw = y_train['yaw']\n",
        "y_train_roll = y_train['roll']\n",
        "# split y_test into pitch, yaw, roll\n",
        "y_test_pitch = y_test['pitch']\n",
        "y_test_yaw = y_test['yaw']\n",
        "y_test_roll = y_test['roll']\n",
        "\n",
        "# model1 = Ridge(alpha = 0.1).fit(X_train, y_train_pitch)\n",
        "model1= Lasso(alpha = 0.001).fit(X_train, y_train_pitch)\n",
        "model2= Lasso(alpha = 0.001).fit(X_train, y_train_yaw)\n",
        "model3= Lasso(alpha = 0.001).fit(X_train, y_train_roll)\n",
        "# model1=LinearRegression().fit(X_train, y_train_pitch)\n",
        "# model1=SVR(kernel='linear', C=1).fit(X_train, y_train_pitch)\n",
        "# model1=RandomForestRegressor(random_state=0, n_estimators=5, max_depth=10).fit(X_train, y_train_pitch)\n",
        "# model1=DecisionTreeRegressor(max_depth=5).fit(X_train, y_train_pitch)\n"
      ]
    },
    {
      "cell_type": "code",
      "execution_count": null,
      "metadata": {
        "id": "Mv9OGTixH3of"
      },
      "outputs": [],
      "source": [
        "y_pred_pitch = model1.predict(X_test)\n",
        "y_pred_yaw = model2.predict(X_test)\n",
        "y_pred_roll = model3.predict(X_test)"
      ]
    },
    {
      "cell_type": "code",
      "source": [
        "y_test_pitch"
      ],
      "metadata": {
        "colab": {
          "base_uri": "https://localhost:8080/"
        },
        "id": "EblfHtvNHhWy",
        "outputId": "074c75e0-b222-4128-a362-2a7b66e6e00c"
      },
      "execution_count": null,
      "outputs": [
        {
          "output_type": "execute_result",
          "data": {
            "text/plain": [
              "0   -0.156095\n",
              "0   -0.161890\n",
              "0   -0.160897\n",
              "0   -0.195635\n",
              "0    0.055647\n",
              "       ...   \n",
              "0   -0.048814\n",
              "0    0.144102\n",
              "0   -0.006241\n",
              "0   -0.375807\n",
              "0   -0.248568\n",
              "Name: pitch, Length: 768, dtype: float64"
            ]
          },
          "metadata": {},
          "execution_count": 19
        }
      ]
    },
    {
      "cell_type": "markdown",
      "source": [
        "##Test accurcy for model"
      ],
      "metadata": {
        "id": "170kM8lCtgAr"
      }
    },
    {
      "cell_type": "code",
      "execution_count": null,
      "metadata": {
        "colab": {
          "base_uri": "https://localhost:8080/"
        },
        "id": "HhHy_8gPIFTJ",
        "outputId": "527751a4-227c-4894-b423-37171ee171bb"
      },
      "outputs": [
        {
          "output_type": "stream",
          "name": "stdout",
          "text": [
            "Pitch:\n",
            "Mean Squared Error for train : 0.0017454283352962272\n",
            "Mean Squared Error for test train : 0.0020931344170871343\n",
            "R2 Score for train: 0.9351787487201967\n",
            "R2 Score for test: 0.9291878911975523\n",
            "\n",
            " Yaw:\n",
            "Mean Squared Error for train: 0.0008558944389306856\n",
            "Mean Squared Error for test: 0.0009166173181428639\n",
            "R2 Score for train: 0.9894284303573492\n",
            "R2 Score for test: 0.9889370970360272\n",
            "\n",
            " Roll:\n",
            "Mean Squared Error for train: 0.00042006039793634337\n",
            "Mean Squared Error for test: 0.0005173430880192198\n",
            "R2 Score for train: 0.9804030894492513\n",
            "R2 Score for test: 0.9791468992135675\n"
          ]
        }
      ],
      "source": [
        "print('Pitch:')\n",
        "print('Mean Squared Error for train :', mean_squared_error(y_train_pitch, model1.predict(X_train)))\n",
        "print('Mean Squared Error for test train :', mean_squared_error(y_test_pitch, y_pred_pitch))\n",
        "print('R2 Score for train:', r2_score(y_train_pitch, model1.predict(X_train)))\n",
        "print('R2 Score for test:', r2_score(y_test_pitch, y_pred_pitch))\n",
        "\n",
        "\n",
        "print(\"\\n Yaw:\")\n",
        "print('Mean Squared Error for train:', mean_squared_error(y_train_yaw, model2.predict(X_train)))\n",
        "print('Mean Squared Error for test:', mean_squared_error(y_test_yaw, y_pred_yaw))\n",
        "print('R2 Score for train:', r2_score(y_train_yaw, model2.predict(X_train)))\n",
        "print('R2 Score for test:', r2_score(y_test_yaw, y_pred_yaw))\n",
        "\n",
        "\n",
        "print(\"\\n Roll:\")\n",
        "print('Mean Squared Error for train:', mean_squared_error(y_train_roll, model3.predict(X_train)))\n",
        "print('Mean Squared Error for test:', mean_squared_error(y_test_roll, y_pred_roll))\n",
        "print('R2 Score for train:', r2_score(y_train_roll, model3.predict(X_train)))\n",
        "print('R2 Score for test:', r2_score(y_test_roll, y_pred_roll))\n"
      ]
    },
    {
      "cell_type": "code",
      "execution_count": null,
      "metadata": {
        "colab": {
          "base_uri": "https://localhost:8080/",
          "height": 424
        },
        "id": "GxjCrKf6IHtl",
        "outputId": "71211fbd-d385-42f1-ebd3-c01a5928fefc"
      },
      "outputs": [
        {
          "output_type": "execute_result",
          "data": {
            "text/plain": [
              "    Actual_P  Predicted_P  Actual_Y  Predicted_Y  Actual_R  Predicted_R\n",
              "0  -0.156095    -0.119573  0.134771     0.136796 -0.103571    -0.082109\n",
              "0  -0.161890    -0.150581 -0.040835    -0.037711 -0.025590    -0.019738\n",
              "0  -0.160897    -0.099812  0.392026     0.372608 -0.171145    -0.158386\n",
              "0  -0.195635    -0.180741  0.410478     0.451437 -0.121162    -0.162890\n",
              "0   0.055647     0.020054 -0.511207    -0.515113 -0.070894    -0.060392\n",
              "..       ...          ...       ...          ...       ...          ...\n",
              "0  -0.048814    -0.047788 -0.247100    -0.262238 -0.055794    -0.045677\n",
              "0   0.144102     0.140792  0.152360     0.177135 -0.131090    -0.144153\n",
              "0  -0.006241     0.001745  0.231483     0.232923 -0.157728    -0.166832\n",
              "0  -0.375807    -0.275886 -0.430160    -0.384023  0.379652     0.382868\n",
              "0  -0.248568    -0.217549  0.105162     0.110522  0.049668     0.037554\n",
              "\n",
              "[768 rows x 6 columns]"
            ],
            "text/html": [
              "\n",
              "  <div id=\"df-46bbb972-ec64-429e-a0c0-134e6508136e\">\n",
              "    <div class=\"colab-df-container\">\n",
              "      <div>\n",
              "<style scoped>\n",
              "    .dataframe tbody tr th:only-of-type {\n",
              "        vertical-align: middle;\n",
              "    }\n",
              "\n",
              "    .dataframe tbody tr th {\n",
              "        vertical-align: top;\n",
              "    }\n",
              "\n",
              "    .dataframe thead th {\n",
              "        text-align: right;\n",
              "    }\n",
              "</style>\n",
              "<table border=\"1\" class=\"dataframe\">\n",
              "  <thead>\n",
              "    <tr style=\"text-align: right;\">\n",
              "      <th></th>\n",
              "      <th>Actual_P</th>\n",
              "      <th>Predicted_P</th>\n",
              "      <th>Actual_Y</th>\n",
              "      <th>Predicted_Y</th>\n",
              "      <th>Actual_R</th>\n",
              "      <th>Predicted_R</th>\n",
              "    </tr>\n",
              "  </thead>\n",
              "  <tbody>\n",
              "    <tr>\n",
              "      <th>0</th>\n",
              "      <td>-0.156095</td>\n",
              "      <td>-0.119573</td>\n",
              "      <td>0.134771</td>\n",
              "      <td>0.136796</td>\n",
              "      <td>-0.103571</td>\n",
              "      <td>-0.082109</td>\n",
              "    </tr>\n",
              "    <tr>\n",
              "      <th>0</th>\n",
              "      <td>-0.161890</td>\n",
              "      <td>-0.150581</td>\n",
              "      <td>-0.040835</td>\n",
              "      <td>-0.037711</td>\n",
              "      <td>-0.025590</td>\n",
              "      <td>-0.019738</td>\n",
              "    </tr>\n",
              "    <tr>\n",
              "      <th>0</th>\n",
              "      <td>-0.160897</td>\n",
              "      <td>-0.099812</td>\n",
              "      <td>0.392026</td>\n",
              "      <td>0.372608</td>\n",
              "      <td>-0.171145</td>\n",
              "      <td>-0.158386</td>\n",
              "    </tr>\n",
              "    <tr>\n",
              "      <th>0</th>\n",
              "      <td>-0.195635</td>\n",
              "      <td>-0.180741</td>\n",
              "      <td>0.410478</td>\n",
              "      <td>0.451437</td>\n",
              "      <td>-0.121162</td>\n",
              "      <td>-0.162890</td>\n",
              "    </tr>\n",
              "    <tr>\n",
              "      <th>0</th>\n",
              "      <td>0.055647</td>\n",
              "      <td>0.020054</td>\n",
              "      <td>-0.511207</td>\n",
              "      <td>-0.515113</td>\n",
              "      <td>-0.070894</td>\n",
              "      <td>-0.060392</td>\n",
              "    </tr>\n",
              "    <tr>\n",
              "      <th>...</th>\n",
              "      <td>...</td>\n",
              "      <td>...</td>\n",
              "      <td>...</td>\n",
              "      <td>...</td>\n",
              "      <td>...</td>\n",
              "      <td>...</td>\n",
              "    </tr>\n",
              "    <tr>\n",
              "      <th>0</th>\n",
              "      <td>-0.048814</td>\n",
              "      <td>-0.047788</td>\n",
              "      <td>-0.247100</td>\n",
              "      <td>-0.262238</td>\n",
              "      <td>-0.055794</td>\n",
              "      <td>-0.045677</td>\n",
              "    </tr>\n",
              "    <tr>\n",
              "      <th>0</th>\n",
              "      <td>0.144102</td>\n",
              "      <td>0.140792</td>\n",
              "      <td>0.152360</td>\n",
              "      <td>0.177135</td>\n",
              "      <td>-0.131090</td>\n",
              "      <td>-0.144153</td>\n",
              "    </tr>\n",
              "    <tr>\n",
              "      <th>0</th>\n",
              "      <td>-0.006241</td>\n",
              "      <td>0.001745</td>\n",
              "      <td>0.231483</td>\n",
              "      <td>0.232923</td>\n",
              "      <td>-0.157728</td>\n",
              "      <td>-0.166832</td>\n",
              "    </tr>\n",
              "    <tr>\n",
              "      <th>0</th>\n",
              "      <td>-0.375807</td>\n",
              "      <td>-0.275886</td>\n",
              "      <td>-0.430160</td>\n",
              "      <td>-0.384023</td>\n",
              "      <td>0.379652</td>\n",
              "      <td>0.382868</td>\n",
              "    </tr>\n",
              "    <tr>\n",
              "      <th>0</th>\n",
              "      <td>-0.248568</td>\n",
              "      <td>-0.217549</td>\n",
              "      <td>0.105162</td>\n",
              "      <td>0.110522</td>\n",
              "      <td>0.049668</td>\n",
              "      <td>0.037554</td>\n",
              "    </tr>\n",
              "  </tbody>\n",
              "</table>\n",
              "<p>768 rows × 6 columns</p>\n",
              "</div>\n",
              "      <button class=\"colab-df-convert\" onclick=\"convertToInteractive('df-46bbb972-ec64-429e-a0c0-134e6508136e')\"\n",
              "              title=\"Convert this dataframe to an interactive table.\"\n",
              "              style=\"display:none;\">\n",
              "        \n",
              "  <svg xmlns=\"http://www.w3.org/2000/svg\" height=\"24px\"viewBox=\"0 0 24 24\"\n",
              "       width=\"24px\">\n",
              "    <path d=\"M0 0h24v24H0V0z\" fill=\"none\"/>\n",
              "    <path d=\"M18.56 5.44l.94 2.06.94-2.06 2.06-.94-2.06-.94-.94-2.06-.94 2.06-2.06.94zm-11 1L8.5 8.5l.94-2.06 2.06-.94-2.06-.94L8.5 2.5l-.94 2.06-2.06.94zm10 10l.94 2.06.94-2.06 2.06-.94-2.06-.94-.94-2.06-.94 2.06-2.06.94z\"/><path d=\"M17.41 7.96l-1.37-1.37c-.4-.4-.92-.59-1.43-.59-.52 0-1.04.2-1.43.59L10.3 9.45l-7.72 7.72c-.78.78-.78 2.05 0 2.83L4 21.41c.39.39.9.59 1.41.59.51 0 1.02-.2 1.41-.59l7.78-7.78 2.81-2.81c.8-.78.8-2.07 0-2.86zM5.41 20L4 18.59l7.72-7.72 1.47 1.35L5.41 20z\"/>\n",
              "  </svg>\n",
              "      </button>\n",
              "      \n",
              "  <style>\n",
              "    .colab-df-container {\n",
              "      display:flex;\n",
              "      flex-wrap:wrap;\n",
              "      gap: 12px;\n",
              "    }\n",
              "\n",
              "    .colab-df-convert {\n",
              "      background-color: #E8F0FE;\n",
              "      border: none;\n",
              "      border-radius: 50%;\n",
              "      cursor: pointer;\n",
              "      display: none;\n",
              "      fill: #1967D2;\n",
              "      height: 32px;\n",
              "      padding: 0 0 0 0;\n",
              "      width: 32px;\n",
              "    }\n",
              "\n",
              "    .colab-df-convert:hover {\n",
              "      background-color: #E2EBFA;\n",
              "      box-shadow: 0px 1px 2px rgba(60, 64, 67, 0.3), 0px 1px 3px 1px rgba(60, 64, 67, 0.15);\n",
              "      fill: #174EA6;\n",
              "    }\n",
              "\n",
              "    [theme=dark] .colab-df-convert {\n",
              "      background-color: #3B4455;\n",
              "      fill: #D2E3FC;\n",
              "    }\n",
              "\n",
              "    [theme=dark] .colab-df-convert:hover {\n",
              "      background-color: #434B5C;\n",
              "      box-shadow: 0px 1px 3px 1px rgba(0, 0, 0, 0.15);\n",
              "      filter: drop-shadow(0px 1px 2px rgba(0, 0, 0, 0.3));\n",
              "      fill: #FFFFFF;\n",
              "    }\n",
              "  </style>\n",
              "\n",
              "      <script>\n",
              "        const buttonEl =\n",
              "          document.querySelector('#df-46bbb972-ec64-429e-a0c0-134e6508136e button.colab-df-convert');\n",
              "        buttonEl.style.display =\n",
              "          google.colab.kernel.accessAllowed ? 'block' : 'none';\n",
              "\n",
              "        async function convertToInteractive(key) {\n",
              "          const element = document.querySelector('#df-46bbb972-ec64-429e-a0c0-134e6508136e');\n",
              "          const dataTable =\n",
              "            await google.colab.kernel.invokeFunction('convertToInteractive',\n",
              "                                                     [key], {});\n",
              "          if (!dataTable) return;\n",
              "\n",
              "          const docLinkHtml = 'Like what you see? Visit the ' +\n",
              "            '<a target=\"_blank\" href=https://colab.research.google.com/notebooks/data_table.ipynb>data table notebook</a>'\n",
              "            + ' to learn more about interactive tables.';\n",
              "          element.innerHTML = '';\n",
              "          dataTable['output_type'] = 'display_data';\n",
              "          await google.colab.output.renderOutput(dataTable, element);\n",
              "          const docLink = document.createElement('div');\n",
              "          docLink.innerHTML = docLinkHtml;\n",
              "          element.appendChild(docLink);\n",
              "        }\n",
              "      </script>\n",
              "    </div>\n",
              "  </div>\n",
              "  "
            ]
          },
          "metadata": {},
          "execution_count": 29
        }
      ],
      "source": [
        "dfh = pd.DataFrame({'Actual_P': y_test_pitch,'Predicted_P': y_pred_pitch\n",
        "                    ,'Actual_Y': y_test_yaw, 'Predicted_Y':y_pred_yaw,\n",
        "                    'Actual_R': y_test_roll, 'Predicted_R': y_pred_roll})\n",
        "dfh"
      ]
    },
    {
      "cell_type": "code",
      "execution_count": null,
      "metadata": {
        "id": "o6JihaDJNQh3"
      },
      "outputs": [],
      "source": [
        "\n",
        "def draw_axis(img, pitch, yaw, roll, tdx=None, tdy=None, size = 100):\n",
        "\n",
        "    # pitch = pitch * np.pi / 180\n",
        "    # yaw = (yaw * np.pi / 180)\n",
        "    # roll = roll * np.pi / 180\n",
        "    \n",
        "    if tdx != None and tdy != None:\n",
        "        tdx = tdx\n",
        "        tdy = tdy\n",
        "    else:\n",
        "        height, width = img.shape[:2]\n",
        "        tdx = width / 2\n",
        "        tdy = height / 2\n",
        "\n",
        "    # X-Axis pointing to right. drawn in red\n",
        "    x1 = size * (cos(yaw) * cos(roll)) + tdx\n",
        "    y1 = size * (cos(pitch) * sin(roll) + cos(roll) * sin(pitch) * sin(yaw)) + tdy\n",
        "\n",
        "    # Y-Axis | drawn in green\n",
        "    #        v\n",
        "    x2 = size * (-cos(yaw) * sin(roll)) + tdx\n",
        "    y2 = size * (cos(pitch) * cos(roll) - sin(pitch) * sin(yaw) * sin(roll)) + tdy\n",
        "\n",
        "    # Z-Axis (out of the screen) drawn in blue\n",
        "    x3 = size * (sin(yaw)) + tdx\n",
        "    y3 = size * (-cos(yaw) * sin(pitch)) + tdy\n",
        "\n",
        "    cv2.line(img, (int(tdx), int(tdy)), (int(x1),int(y1)),(0,0,255),3)\n",
        "    cv2.line(img, (int(tdx), int(tdy)), (int(x2),int(y2)),(0,255,0),3)\n",
        "    cv2.line(img, (int(tdx), int(tdy)), (int(x3),int(y3)),(255,0,0),2)\n",
        "\n",
        "    return img\n"
      ]
    },
    {
      "cell_type": "code",
      "execution_count": null,
      "metadata": {
        "colab": {
          "base_uri": "https://localhost:8080/"
        },
        "id": "a8fJUbcGNcar",
        "outputId": "7af941d0-b576-4ddc-a53c-e427b9af641e"
      },
      "outputs": [
        {
          "output_type": "stream",
          "name": "stdout",
          "text": [
            "--2022-06-17 18:43:32--  http://dlib.net/files/shape_predictor_68_face_landmarks.dat.bz2\n",
            "Resolving dlib.net (dlib.net)... 107.180.26.78\n",
            "Connecting to dlib.net (dlib.net)|107.180.26.78|:80... connected.\n",
            "HTTP request sent, awaiting response... 200 OK\n",
            "Length: 64040097 (61M)\n",
            "Saving to: ‘shape_predictor_68_face_landmarks.dat.bz2’\n",
            "\n",
            "shape_predictor_68_ 100%[===================>]  61.07M   111MB/s    in 0.6s    \n",
            "\n",
            "2022-06-17 18:43:32 (111 MB/s) - ‘shape_predictor_68_face_landmarks.dat.bz2’ saved [64040097/64040097]\n",
            "\n"
          ]
        }
      ],
      "source": [
        "!wget http://dlib.net/files/shape_predictor_68_face_landmarks.dat.bz2"
      ]
    },
    {
      "cell_type": "code",
      "execution_count": null,
      "metadata": {
        "colab": {
          "base_uri": "https://localhost:8080/"
        },
        "id": "vc8ySIQKVfNI",
        "outputId": "2d1607a5-a5d0-4bc2-8514-610173976b63"
      },
      "outputs": [
        {
          "output_type": "stream",
          "name": "stdout",
          "text": [
            "--2022-06-17 18:43:34--  http://arunponnusamy.com/files/mmod_human_face_detector.dat\n",
            "Resolving arunponnusamy.com (arunponnusamy.com)... 185.199.109.153, 185.199.110.153, 185.199.108.153, ...\n",
            "Connecting to arunponnusamy.com (arunponnusamy.com)|185.199.109.153|:80... connected.\n",
            "HTTP request sent, awaiting response... 301 Moved Permanently\n",
            "Location: https://www.arunponnusamy.com/files/mmod_human_face_detector.dat [following]\n",
            "--2022-06-17 18:43:34--  https://www.arunponnusamy.com/files/mmod_human_face_detector.dat\n",
            "Resolving www.arunponnusamy.com (www.arunponnusamy.com)... 185.199.110.153, 185.199.109.153, 185.199.111.153, ...\n",
            "Connecting to www.arunponnusamy.com (www.arunponnusamy.com)|185.199.110.153|:443... connected.\n",
            "HTTP request sent, awaiting response... 200 OK\n",
            "Length: 729940 (713K) [application/octet-stream]\n",
            "Saving to: ‘mmod_human_face_detector.dat’\n",
            "\n",
            "\r          mmod_huma   0%[                    ]       0  --.-KB/s               \rmmod_human_face_det 100%[===================>] 712.83K  --.-KB/s    in 0.006s  \n",
            "\n",
            "2022-06-17 18:43:34 (108 MB/s) - ‘mmod_human_face_detector.dat’ saved [729940/729940]\n",
            "\n"
          ]
        }
      ],
      "source": [
        "\n",
        "\n",
        "!wget http://arunponnusamy.com/files/mmod_human_face_detector.dat"
      ]
    },
    {
      "cell_type": "code",
      "execution_count": null,
      "metadata": {
        "id": "PeXcvq6wVhqq"
      },
      "outputs": [],
      "source": [
        "\n",
        "!bzip2 -d  '/content/shape_predictor_68_face_landmarks.dat.bz2'"
      ]
    },
    {
      "cell_type": "code",
      "execution_count": null,
      "metadata": {
        "colab": {
          "base_uri": "https://localhost:8080/"
        },
        "id": "GeM_dF48V1DW",
        "outputId": "e4734534-dd0c-467c-ce70-11d1661a9ae8"
      },
      "outputs": [
        {
          "output_type": "execute_result",
          "data": {
            "text/plain": [
              "<dlib.fhog_object_detector at 0x7f23d7acd170>"
            ]
          },
          "metadata": {},
          "execution_count": 25
        }
      ],
      "source": [
        "predictor=dlib.shape_predictor('/content/shape_predictor_68_face_landmarks.dat')\n",
        "cnn_face_detector = dlib.get_frontal_face_detector()\n",
        "cnn_face_detector"
      ]
    },
    {
      "cell_type": "code",
      "execution_count": null,
      "metadata": {
        "id": "DF9hQr_qWpj4"
      },
      "outputs": [],
      "source": [
        ""
      ]
    },
    {
      "cell_type": "code",
      "execution_count": null,
      "metadata": {
        "id": "fhaLxEyFuONT"
      },
      "outputs": [],
      "source": [
        "def read_path2(path):\n",
        "    \n",
        "    mat = sio.loadmat(path)\n",
        "    # print(mat)\n",
        "    landmarks = mat['pt2d']\n",
        "    pt3d=mat['pt2d']\n",
        "    # print(pt3d.shape)\n",
        "    pre_pose_params = mat['Pose_Para'][0]\n",
        "    # Get [pitch, yaw, roll]\n",
        "    pose_params = pre_pose_params[:3]\n",
        "    labels = mat['Pose_Para'][0][:3]\n",
        "    pitch, yaw, roll = labels\n",
        "    pitch_, yaw_, roll_ = pitch, -yaw, roll\n",
        "    return pt3d,pitch_, yaw_, roll_\n"
      ]
    },
    {
      "cell_type": "code",
      "execution_count": null,
      "metadata": {
        "id": "gEf_hp1kJva1"
      },
      "outputs": [],
      "source": [
        ""
      ]
    },
    {
      "cell_type": "code",
      "execution_count": null,
      "metadata": {
        "id": "VffqwR3WWxeq"
      },
      "outputs": [],
      "source": [
        "random_path = random.choice(get_list_from_filenames(\"/content/image/*.mat\"))\n",
        "random_path2 = random.choice(get_list_from_filenames(\"/content/drive/MyDrive/imageML/*.jpg\"))\n",
        "s='109209934_1'\n",
        "\n",
        "# image='/content/image/'+random_path+'.jpg'\n",
        "# path='/content/image/'+random_path+'.mat'\n",
        "\n",
        "image='/content/image/'+s+'.jpg'\n",
        "path='/content/image/'+s+'.mat'\n",
        "\n",
        "# image='/content/drive/MyDrive/imageML/'+random_path2+'.jpg'\n",
        "# image='/content/drive/MyDrive/imageML/'+s+'.jpg'\n",
        "\n",
        "\n",
        "\n"
      ]
    },
    {
      "cell_type": "code",
      "execution_count": null,
      "metadata": {
        "colab": {
          "base_uri": "https://localhost:8080/",
          "height": 321
        },
        "id": "GphlZY9lJ5jK",
        "outputId": "682c6e7b-61fd-4f96-91e2-f977b8efb968"
      },
      "outputs": [
        {
          "output_type": "stream",
          "name": "stdout",
          "text": [
            "0.09447552263736725\n",
            "-0.08981851\n",
            "-0.04519023\n"
          ]
        },
        {
          "output_type": "display_data",
          "data": {
            "text/plain": [
              "<Figure size 432x288 with 1 Axes>"
            ],
            "image/png": "[encoded data removed]"
          },
          "metadata": {
            "needs_background": "light"
          }
        }
      ],
      "source": [
        "\n",
        "frame = cv2.imread(image)\n",
        "frame = cv2.cvtColor(frame, cv2.COLOR_BGR2RGB)\n",
        "cv2_frame = cv2.cvtColor(frame,cv2.COLOR_BGR2RGB)\n",
        "dets = cnn_face_detector(cv2_frame, 1)\n",
        "\n",
        "def show_image(path):\n",
        "    for (idx, det) in enumerate(dets):\n",
        "        \n",
        "            landm, pose = read_path(path)\n",
        "\n",
        "            pitch = pose[0] #* 180 / np.pi\n",
        "            yaw = pose[1] #*180 / np.pi\n",
        "            roll = pose[2] #* 180 / np.pi\n",
        "\n",
        "            shape = predictor(cv2_frame, det)\n",
        "            shape1 = face_utils.shape_to_np(shape)\n",
        "            tdx,tdy=shape.part(30).x, shape.part(30).y\n",
        "            print(yaw*-1)\n",
        "            print(pitch)\n",
        "            print(roll)\n",
        "            for (x,y) in shape1:\n",
        "                plt.plot(x,y,'bo', markersize=1)\n",
        "    plt.imshow(draw_axis(frame, pitch, -yaw, roll,tdx,tdy))\n",
        "    plt.show()\n",
        "           \n",
        "       \n",
        "       \n",
        "show_image(path)\n",
        "\n",
        "\n"
      ]
    },
    {
      "cell_type": "code",
      "execution_count": null,
      "metadata": {
        "colab": {
          "base_uri": "https://localhost:8080/"
        },
        "id": "blRfT9lYpL7f",
        "outputId": "ddee0ced-d40b-4c68-f13d-ecf991c37773"
      },
      "outputs": [
        {
          "output_type": "stream",
          "name": "stdout",
          "text": [
            "[-0.61860144]\n",
            "[0.29842596]\n",
            "[0.34115099]\n"
          ]
        }
      ],
      "source": [
        "\n",
        "for (idx, det) in enumerate(dets):\n",
        "              \n",
        "            shape = predictor(cv2_frame, det)\n",
        "            shape1 = face_utils.shape_to_np(shape)\n",
        "            tdx,tdy=shape.part(30).x, shape.part(30).y\n",
        "       \n",
        "            a=shape1.reshape(1, -1)\n",
        "            landmarks_x = ['x' + str(i) for i in range(68)]\n",
        "            landmarks_y = ['y' + str(i) for i in range(68)]\n",
        "            f = landmarks_x + landmarks_y\n",
        "            df = pd.DataFrame(a, columns = f)\n",
        "           \n",
        "            p=model1.predict(df)\n",
        "            # p=p* 180 / np.pi\n",
        "            ya=model2.predict(df)\n",
        "            # ya=ya* 180 / np.pi\n",
        "            r=model3.predict(df)\n",
        "            # r=r* 180 / np.pi\n",
        "          \n",
        "            print(p)\n",
        "            print(ya)\n",
        "            print(r)\n",
        "\n",
        "            # cv2_imshow(draw_axis(frame,p,-ya,r,tdx,tdy))"
      ]
    },
    {
      "cell_type": "code",
      "execution_count": null,
      "metadata": {
        "id": "Hf04lgzxquG3"
      },
      "outputs": [],
      "source": [
        ""
      ]
    },
    {
      "cell_type": "code",
      "execution_count": null,
      "metadata": {
        "id": "auiBCz11seqi"
      },
      "outputs": [],
      "source": [
        ""
      ]
    },
    {
      "cell_type": "code",
      "execution_count": null,
      "metadata": {
        "id": "yuk9DKmTseqn"
      },
      "outputs": [],
      "source": [
        ""
      ]
    },
    {
      "cell_type": "code",
      "execution_count": null,
      "metadata": {
        "id": "c85948JAVkN7"
      },
      "outputs": [],
      "source": [
        ""
      ]
    },
    {
      "cell_type": "code",
      "execution_count": null,
      "metadata": {
        "id": "dX-y6wpSs7oy"
      },
      "outputs": [],
      "source": [
        "from IPython.display import display, Javascript\n",
        "from google.colab.output import eval_js\n",
        "from base64 import b64decode\n",
        "\n",
        "def take_photo(filename='photo.jpg', quality=0.8):\n",
        "  js = Javascript('''\n",
        "    async function takePhoto(quality) {\n",
        "      const div = document.createElement('div');\n",
        "      const capture = document.createElement('button');\n",
        "      capture.textContent = 'Capture';\n",
        "      div.appendChild(capture);\n",
        "\n",
        "      const video = document.createElement('video');\n",
        "      video.style.display = 'block';\n",
        "      const stream = await navigator.mediaDevices.getUserMedia({video: true});\n",
        "\n",
        "      document.body.appendChild(div);\n",
        "      div.appendChild(video);\n",
        "      video.srcObject = stream;\n",
        "      await video.play();\n",
        "\n",
        "      // Resize the output to fit the video element.\n",
        "      google.colab.output.setIframeHeight(document.documentElement.scrollHeight, true);\n",
        "\n",
        "      // Wait for Capture to be clicked.\n",
        "      await new Promise((resolve) => capture.onclick = resolve);\n",
        "\n",
        "      const canvas = document.createElement('canvas');\n",
        "      canvas.width = video.videoWidth;\n",
        "      canvas.height = video.videoHeight;\n",
        "      canvas.getContext('2d').drawImage(video, 0, 0);\n",
        "      stream.getVideoTracks()[0].stop();\n",
        "      div.remove();\n",
        "      return canvas.toDataURL('image/jpeg', quality);\n",
        "    }\n",
        "    ''')\n",
        "  display(js)\n",
        "  data = eval_js('takePhoto({})'.format(quality))\n",
        "  binary = b64decode(data.split(',')[1])\n",
        "  with open(filename, 'wb') as f:\n",
        "    f.write(binary)\n",
        "  return filename"
      ]
    },
    {
      "cell_type": "code",
      "execution_count": null,
      "metadata": {
        "id": "h_7wZ-eHs7o4"
      },
      "outputs": [],
      "source": [
        "from IPython.display import Image\n",
        "try:\n",
        "  filename = take_photo()\n",
        "  print('Saved to {}'.format(filename))\n",
        "  \n",
        "  # Show the image which was just taken.\n",
        "  display(Image(filename))\n",
        "except Exception as err:\n",
        "  # Errors will be thrown if the user does not have a webcam or if they do not\n",
        "  # grant the page permission to access it.\n",
        "  print(str(err))"
      ]
    },
    {
      "cell_type": "code",
      "execution_count": null,
      "metadata": {
        "id": "EQP_BqM5VvbK"
      },
      "outputs": [],
      "source": [
        "\n",
        "pa='photo.jpg'\n",
        "detector = dlib.get_frontal_face_detector()\n",
        "\n",
        "def show_land(filename,outputfile='out0.jpg'):\n",
        "      capture = cv2.VideoCapture(filename)\n",
        "      ret, frame = capture.read()\n",
        "      gray = cv2.cvtColor(frame, cv2.COLOR_BGR2RGB)\n",
        "      # gray = cv2.resize(gray,(450,450))\n",
        "      # print(gray.shape)\n",
        "      rects = detector(gray, 1)\n",
        "      # plt.imshow(gray)\n",
        "      # rbg = frame[:,:,::-1]\n",
        "\n",
        "      # store the landmarks in a numpy array\n",
        "      # landmarks = np.zeros((68, 2), dtype=int)\n",
        "\n",
        "      for (i, rect) in enumerate(rects):\n",
        "          shape = predictor(gray, rect)\n",
        "          shape1 = face_utils.shape_to_np(shape)\n",
        "          # print(shape1)\n",
        "          landmarks = shape1.T\n",
        "          nose_x, nose_y = landmarks[0,32], landmarks[1,32]\n",
        "          # print(landmarks)\n",
        "          tdx,tdy=shape.part(30).x, shape.part(32).y\n",
        "          a=shape1.reshape(1, -1)\n",
        "          landmarks_x = ['x' + str(i) for i in range(68)]\n",
        "          landmarks_y = ['y' + str(i) for i in range(68)]\n",
        "          f = landmarks_x + landmarks_y\n",
        "          df = pd.DataFrame(a, columns = f)\n",
        "          p=model1.predict(df)\n",
        "          # p=p* 180 / np.pi\n",
        "          ya=model2.predict(df)\n",
        "          # ya=ya* 180 / np.pi\n",
        "          r=model3.predict(df)\n",
        "          # r=r* 180 / np.pi\n",
        "          cv2_imshow(draw_axis(frame,p,-ya,r,tdx,tdy))\n",
        "       \n",
        "          # count=random.randint(0, 9)\n",
        "          # print(count)\n",
        "        \n",
        "          cv2.imwrite(outputfile, draw_axis(frame,p,-ya,r,tdx,tdy)) \n",
        "          # cv2_imshow(draw_axis(frame,p,-ya,r,nose_x,nose_y))\n",
        "          # plt.imshow(draw_axis(gray,p,-ya,r, nose_x, nose_y))\n",
        "          # vidcap = cv2.VideoCapture('test.mp4')\n",
        "          # success,image = vidcap.read()\n",
        "          # count = 0\n",
        "          # while success:\n",
        "          #   cv2.imwrite(\"frame%d.jpg\" % count, image)     # save frame as JPEG file      \n",
        "          #   success,image = vidcap.read()\n",
        "          #   iname='frame'+str(count)+'.jpg'\n",
        "          #   show_land(iname)\n",
        "          #   print(iname)\n",
        "\n",
        "          #   print('Read a new frame: ', success)\n",
        "          #   count += 1\n",
        "\n",
        "\n",
        "\n",
        "    # print(shape.shape)\n",
        "    # print(shape)\n",
        "    \n",
        "    # for (x,y) in shape1:\n",
        "    #             plt.plot(x,y,'bo', markersize=1)\n",
        "# shape = predictor(cv2_frame, det)\n",
        "# shape1 = face_utils.shape_to_np(shape)\n",
        "# tdx,tdy=shape.part(30).x, shape.part(30).y\n",
        "# a=shape1.reshape(1, -1)\n",
        "# landmarks_x = ['x' + str(i) for i in range(68)]\n",
        "# landmarks_y = ['y' + str(i) for i in range(68)]\n",
        "# f = landmarks_x + landmarks_y\n",
        "# df = pd.DataFrame(a, columns = f)\n",
        "\n",
        "\n",
        "# landmarks = shape.T\n",
        "# print(landmarks.shape)\n",
        "# print(landmarks)\n",
        "# nose_x, nose_y = landmarks[0,32], landmarks[1,32]\n",
        "# print(nose_x, nose_y)\n",
        "# landmarks_ = landmarks.reshape(1, -1)\n",
        "# pitch_pred = model1.predict(landmarks_)\n",
        "# yaw_pred = model2.predict(landmarks_)\n",
        "# roll_pred = model3.predict(landmarks_)\n",
        "# plt.imshow(draw_axis(gray, yaw_pred, pitch_pred, roll_pred, nose_x, nose_y))\n",
        "# plt.show()"
      ]
    },
    {
      "cell_type": "code",
      "execution_count": null,
      "metadata": {
        "id": "AxYFiX-rvI81"
      },
      "outputs": [],
      "source": [
        "show_land(filename)"
      ]
    },
    {
      "cell_type": "code",
      "execution_count": null,
      "metadata": {
        "id": "swwjkDwA5yea"
      },
      "outputs": [],
      "source": [
        "# Adapted from: https://stackoverflow.com/a/62804023/4879610\n",
        "from IPython.display import display, Javascript\n",
        "from google.colab.output import eval_js\n",
        "from base64 import b64decode\n",
        "\n",
        "def record_video(filename):\n",
        "  js = Javascript(\"\"\"\n",
        "    async function recordVideo() {\n",
        "      // mashes together the advanced_outputs.ipynb function provided by Colab, \n",
        "      // a bunch of stuff from Stack overflow, and some sample code from:\n",
        "      // https://developer.mozilla.org/en-US/docs/Web/API/MediaStream_Recording_API\n",
        "\n",
        "      // Optional frames per second argument.\n",
        "      const options = { mimeType: \"video/webm; codecs=vp9\" };\n",
        "      const div = document.createElement('div');\n",
        "      const capture = document.createElement('button');\n",
        "      const stopCapture = document.createElement(\"button\");\n",
        "      capture.textContent = \"Start Recording\";\n",
        "      capture.style.background = \"green\";\n",
        "      capture.style.color = \"white\";\n",
        "\n",
        "      stopCapture.textContent = \"Stop Recording\";\n",
        "      stopCapture.style.background = \"red\";\n",
        "      stopCapture.style.color = \"white\";\n",
        "      div.appendChild(capture);\n",
        "\n",
        "      const video = document.createElement('video');\n",
        "      const recordingVid = document.createElement(\"video\");\n",
        "      video.style.display = 'block';\n",
        "\n",
        "      const stream = await navigator.mediaDevices.getUserMedia({audio:true, video: true});\n",
        "      // create a media recorder instance, which is an object\n",
        "      // that will let you record what you stream.\n",
        "      let recorder = new MediaRecorder(stream, options);\n",
        "      document.body.appendChild(div);\n",
        "      div.appendChild(video);\n",
        "      // Video is a media element.  This line here sets the object which serves\n",
        "      // as the source of the media associated with the HTMLMediaElement\n",
        "      // Here, we'll set it equal to the stream.\n",
        "      video.srcObject = stream;\n",
        "\n",
        "      // from https://stackoverflow.com/questions/62529304/is-there-any-way-to-capture-live-video-using-webcam-in-google-colab#comment114644726_62804023\n",
        "      video.muted = true;\n",
        "\n",
        "      // We're inside an async function, so this await will fire off the playing\n",
        "      // of a video. It returns a Promise which is resolved when playback has \n",
        "      // been successfully started. Since this is async, the function will be \n",
        "      // paused until this has started playing. \n",
        "      await video.play();\n",
        "\n",
        "      // Resize the output to fit the video element.\n",
        "      google.colab.output.setIframeHeight(document.documentElement.scrollHeight, true);\n",
        "      // and now, just wait for the capture button to get clicked in order to\n",
        "      // start recording\n",
        "      await new Promise((resolve) => {\n",
        "        capture.onclick = resolve;\n",
        "      });\n",
        "      recorder.start();\n",
        "      capture.replaceWith(stopCapture);\n",
        "      // use a promise to tell it to stop recording\n",
        "      await new Promise((resolve) => stopCapture.onclick = resolve);\n",
        "      recorder.stop();\n",
        "\n",
        "      let recData = await new Promise((resolve) => recorder.ondataavailable = resolve);\n",
        "      let arrBuff = await recData.data.arrayBuffer();\n",
        "      \n",
        "      // stop the stream and remove the video element\n",
        "      stream.getVideoTracks()[0].stop();\n",
        "      div.remove();\n",
        "\n",
        "      let binaryString = \"\";\n",
        "      let bytes = new Uint8Array(arrBuff);\n",
        "      bytes.forEach((byte) => {\n",
        "        binaryString += String.fromCharCode(byte);\n",
        "      })\n",
        "      return btoa(binaryString);\n",
        "\n",
        "    }\n",
        "    \"\"\")\n",
        "  try:\n",
        "    display(js)\n",
        "    data = eval_js('recordVideo({})')\n",
        "    binary = b64decode(data)\n",
        "    with open(filename, \"wb\") as video_file:\n",
        "      video_file.write(binary)\n",
        "    print(\n",
        "        f\"Finished recording video. Saved binary under filename in current working directory: {filename}\"\n",
        "    )\n",
        "  except Exception as err:\n",
        "      # In case any exceptions arise\n",
        "      print(str(err))\n"
      ]
    },
    {
      "cell_type": "code",
      "execution_count": null,
      "metadata": {
        "id": "l5s0lAnX5e3d"
      },
      "outputs": [],
      "source": [
        "from IPython.display import HTML\n",
        "from base64 import b64encode\n",
        "\n",
        "def show_video(video_path, video_width = 600):\n",
        "  # show saved video in colab.\n",
        "  video_file = open(video_path, \"r+b\").read()\n",
        "\n",
        "  video_url = f\"data:video/mp4;base64,{b64encode(video_file).decode()}\"\n",
        "  return HTML(f\"\"\"<video width={video_width} controls><source src=\"{video_url}\"></video>\"\"\")"
      ]
    },
    {
      "cell_type": "code",
      "execution_count": null,
      "metadata": {
        "id": "sJCukDwB5shZ"
      },
      "outputs": [],
      "source": [
        "# video_path = \"test.mp4\"\n",
        "video_path=\"/content/drive/MyDrive/MLProject/Inputvideo/vedio1.mp4\"\n",
        "# record_video(video_path)"
      ]
    },
    {
      "cell_type": "code",
      "source": [
        ""
      ],
      "metadata": {
        "id": "SuDM3eLmG1Rh"
      },
      "execution_count": null,
      "outputs": []
    },
    {
      "cell_type": "code",
      "execution_count": null,
      "metadata": {
        "id": "CDc5kSfbvJLH"
      },
      "outputs": [],
      "source": [
        "# show_video(video_path)"
      ]
    },
    {
      "cell_type": "markdown",
      "source": [
        ""
      ],
      "metadata": {
        "id": "emAh6XrjYvmt"
      }
    },
    {
      "cell_type": "code",
      "execution_count": null,
      "metadata": {
        "colab": {
          "base_uri": "https://localhost:8080/"
        },
        "id": "CEQiMS3evJRM",
        "outputId": "7fc66740-986f-45e2-ded5-9c120ad2fa59"
      },
      "outputs": [
        {
          "output_type": "stream",
          "name": "stdout",
          "text": [
            "Looking in indexes: https://pypi.org/simple, https://us-python.pkg.dev/colab-wheels/public/simple/\n",
            "Requirement already satisfied: cmake in /usr/local/lib/python3.7/dist-packages (3.22.5)\n",
            "Looking in indexes: https://pypi.org/simple, https://us-python.pkg.dev/colab-wheels/public/simple/\n",
            "Collecting face_recognition\n",
            "  Downloading face_recognition-1.3.0-py2.py3-none-any.whl (15 kB)\n",
            "Collecting face-recognition-models>=0.3.0\n",
            "  Downloading face_recognition_models-0.3.0.tar.gz (100.1 MB)\n",
            "\u001b[K     |████████████████████████████████| 100.1 MB 26 kB/s \n",
            "\u001b[?25hRequirement already satisfied: Click>=6.0 in /usr/local/lib/python3.7/dist-packages (from face_recognition) (7.1.2)\n",
            "Requirement already satisfied: dlib>=19.7 in /usr/local/lib/python3.7/dist-packages (from face_recognition) (19.18.0+zzzcolab20220513001918)\n",
            "Requirement already satisfied: numpy in /usr/local/lib/python3.7/dist-packages (from face_recognition) (1.21.6)\n",
            "Requirement already satisfied: Pillow in /usr/local/lib/python3.7/dist-packages (from face_recognition) (7.1.2)\n",
            "Building wheels for collected packages: face-recognition-models\n",
            "  Building wheel for face-recognition-models (setup.py) ... \u001b[?25l\u001b[?25hdone\n",
            "  Created wheel for face-recognition-models: filename=face_recognition_models-0.3.0-py2.py3-none-any.whl size=100566186 sha256=2a4d4794c1f11035ba8db9f4acf91c31c0af69ec63113e68b177a94c6fe4366b\n",
            "  Stored in directory: /root/.cache/pip/wheels/d6/81/3c/884bcd5e1c120ff548d57c2ecc9ebf3281c9a6f7c0e7e7947a\n",
            "Successfully built face-recognition-models\n",
            "Installing collected packages: face-recognition-models, face-recognition\n",
            "Successfully installed face-recognition-1.3.0 face-recognition-models-0.3.0\n"
          ]
        }
      ],
      "source": [
        "!pip install cmake\n",
        "!pip install face_recognition"
      ]
    },
    {
      "cell_type": "code",
      "execution_count": null,
      "metadata": {
        "colab": {
          "base_uri": "https://localhost:8080/"
        },
        "id": "Pvf9ec1kwQML",
        "outputId": "af78a7ed-92b7-45cb-ce87-3335f5c4ecad"
      },
      "outputs": [
        {
          "output_type": "stream",
          "name": "stdout",
          "text": [
            "Populating the interactive namespace from numpy and matplotlib\n"
          ]
        }
      ],
      "source": [
        "%pylab inline \n",
        "import face_recognition\n",
        "import cv2\n",
        "import matplotlib.patches as patches\n",
        "from IPython.display import clear_output\n",
        "from matplotlib.pyplot import imshow\n",
        "import matplotlib.pylab as plt"
      ]
    },
    {
      "cell_type": "code",
      "execution_count": null,
      "metadata": {
        "id": "CpPHYIgqvJUO"
      },
      "outputs": [],
      "source": [
        "video_capture = cv2.VideoCapture(\"test.mp4\")\n",
        "\n",
        "frame_count = 0\n",
        "\n",
        "while video_capture.isOpened():    \n",
        "    # Grab a single frame of video\n",
        "    ret, frame = video_capture.read()\n",
        "\n",
        "    # Bail out when the video file ends\n",
        "    if not ret:\n",
        "        video_capture.release()\n",
        "        break\n",
        "        \n",
        "    # We will search face in every 15 frames to speed up process.\n",
        "    frame_count += 1\n",
        "    if frame_count % 15 == 0:    \n",
        "        frame = cv2.cvtColor(frame, cv2.COLOR_BGR2RGB)\n",
        "        print(frame.shape)\n",
        "        rects = detector(frame, 1)\n",
        "        for (i, rect) in enumerate(rects):\n",
        "                shape = predictor(frame, rect)\n",
        "                shape1 = face_utils.shape_to_np(shape)\n",
        "                landmarks = shape1.T\n",
        "                nose_x, nose_y = landmarks[0,32], landmarks[1,32]\n",
        "                print(landmarks)\n",
        "                tdx,tdy=shape.part(30).x, shape.part(30).y\n",
        "                a=shape1.reshape(1, -1)\n",
        "                landmarks_x = ['x' + str(i) for i in range(68)]\n",
        "                landmarks_y = ['y' + str(i) for i in range(68)]\n",
        "                f = landmarks_x + landmarks_y\n",
        "                df = pd.DataFrame(a, columns = f)\n",
        "                p=model1.predict(df)\n",
        "                # p=p* 180 / np.pi\n",
        "                ya=model2.predict(df)\n",
        "                # ya=ya* 180 / np.pi\n",
        "                r=model3.predict(df)\n",
        "                # r=r* 180 / np.pi\n",
        "                # cv2_imshow(draw_axis(frame,p,-ya,r,tdx,tdy))\n",
        "                # cv2_imshow(draw_axis(frame,p,-ya,r,nose_x,nose_y))\n",
        "                plt.imshow(draw_axis(frame,p,ya,r, nose_x, nose_y))\n",
        "        # Display video frame\n",
        "        title(\"Input Stream\")\n",
        "        plt.imshow(frame)        \n",
        "\n",
        "        # Find all the faces and face encodings in the current frame of video\n",
        "        rgb_frame = frame[:, :, ::-1]\n",
        "        face_locations = face_recognition.face_locations(rgb_frame)\n",
        "        \n",
        "        # If faces were found, we will mark it on frame with blue dots\n",
        "        for face_location in face_locations:        \n",
        "            plt.plot(face_location[1], face_location[0], 'bo')\n",
        "            plt.plot(face_location[1], face_location[2], 'bo')\n",
        "            plt.plot(face_location[3], face_location[2], 'bo')\n",
        "            plt.plot(face_location[3], face_location[0], 'bo')\n",
        "\n",
        "        # Show frame...\n",
        "        plt.show() \n",
        "        # ... and hold it until a new frame appears\n",
        "        clear_output(wait=True)"
      ]
    },
    {
      "cell_type": "code",
      "execution_count": null,
      "metadata": {
        "id": "4DxfiTi9vJWy"
      },
      "outputs": [],
      "source": [
        "vidcap = cv2.VideoCapture('/content/drive/MyDrive/MLProject/Inputvideo/vedio1.mp4')\n",
        "success,image = vidcap.read()\n",
        "count = 0\n",
        "\n",
        "while success:\n",
        "  cv2.imwrite(\"/content/drive/MyDrive/MLProject/frames/frame%d.jpg\" % count, image)     # save frame as JPEG file      \n",
        "  success,image = vidcap.read()\n",
        "  iname='/content/drive/MyDrive/MLProject/frames/frame'+str(count)+'.jpg'\n",
        "  out='/content/drive/MyDrive/MLProject/outputframes/frame'+str(count)+'.jpg'\n",
        "  show_land(iname,out)\n",
        "  print(iname)\n",
        "\n",
        "  # print('Read a new frame: ', success)\n",
        "  count += 1"
      ]
    },
    {
      "cell_type": "code",
      "execution_count": null,
      "metadata": {
        "id": "8FDPqcnuvJZr"
      },
      "outputs": [],
      "source": [
        ""
      ]
    },
    {
      "cell_type": "code",
      "execution_count": null,
      "metadata": {
        "id": "Lf6fIBTMvJcb"
      },
      "outputs": [],
      "source": [
        "# frameSize = (500, 500)\n",
        "# c=0\n",
        "\n",
        "# out = cv2.VideoWriter('output_video.avi',cv2.VideoWriter_fourcc(*'DIVX'), 50, frameSize)\n",
        "# # /content/outimage0.jpg\n",
        "# for filename in glob.glob('frame[^0-9][^0-9][^0-9].jpg'):\n",
        "#     img = cv2.imread(filename)\n",
        "#     c+=1\n",
        "#     print(filename)\n",
        "#     out.write(img)\n",
        "\n",
        "# out.release()\n",
        "# print(c)"
      ]
    },
    {
      "cell_type": "code",
      "execution_count": null,
      "metadata": {
        "colab": {
          "base_uri": "https://localhost:8080/"
        },
        "id": "pKwJ0cIrO4Wx",
        "outputId": "c05bbc42-4da9-4eb2-aeeb-705e1b66ecc7"
      },
      "outputs": [
        {
          "output_type": "stream",
          "name": "stdout",
          "text": [
            "Looking in indexes: https://pypi.org/simple, https://us-python.pkg.dev/colab-wheels/public/simple/\n",
            "Requirement already satisfied: natsort in /usr/local/lib/python3.7/dist-packages (5.5.0)\n"
          ]
        }
      ],
      "source": [
        "!pip install natsort"
      ]
    },
    {
      "cell_type": "code",
      "execution_count": null,
      "metadata": {
        "id": "xhh10y8FO9IT"
      },
      "outputs": [],
      "source": [
        "from natsort import natsorted\n",
        "\n",
        "# ima= natsorted(image_files)\n",
        "# print(ima)"
      ]
    },
    {
      "cell_type": "code",
      "execution_count": null,
      "metadata": {
        "colab": {
          "base_uri": "https://localhost:8080/"
        },
        "id": "4absGziyvJg3",
        "outputId": "f3d06863-e0e5-4a92-b6f6-ac1d3c6bd97a"
      },
      "outputs": [
        {
          "output_type": "stream",
          "name": "stdout",
          "text": [
            "['/content/drive/MyDrive/MLProject/outputframes/frame0.jpg', '/content/drive/MyDrive/MLProject/outputframes/frame1.jpg', '/content/drive/MyDrive/MLProject/outputframes/frame2.jpg', '/content/drive/MyDrive/MLProject/outputframes/frame3.jpg', '/content/drive/MyDrive/MLProject/outputframes/frame4.jpg', '/content/drive/MyDrive/MLProject/outputframes/frame5.jpg', '/content/drive/MyDrive/MLProject/outputframes/frame6.jpg', '/content/drive/MyDrive/MLProject/outputframes/frame7.jpg', '/content/drive/MyDrive/MLProject/outputframes/frame8.jpg', '/content/drive/MyDrive/MLProject/outputframes/frame9.jpg', '/content/drive/MyDrive/MLProject/outputframes/frame10.jpg', '/content/drive/MyDrive/MLProject/outputframes/frame11.jpg', '/content/drive/MyDrive/MLProject/outputframes/frame12.jpg', '/content/drive/MyDrive/MLProject/outputframes/frame13.jpg', '/content/drive/MyDrive/MLProject/outputframes/frame14.jpg', '/content/drive/MyDrive/MLProject/outputframes/frame15.jpg', '/content/drive/MyDrive/MLProject/outputframes/frame16.jpg', '/content/drive/MyDrive/MLProject/outputframes/frame17.jpg', '/content/drive/MyDrive/MLProject/outputframes/frame18.jpg', '/content/drive/MyDrive/MLProject/outputframes/frame19.jpg', '/content/drive/MyDrive/MLProject/outputframes/frame20.jpg', '/content/drive/MyDrive/MLProject/outputframes/frame21.jpg', '/content/drive/MyDrive/MLProject/outputframes/frame22.jpg', '/content/drive/MyDrive/MLProject/outputframes/frame23.jpg', '/content/drive/MyDrive/MLProject/outputframes/frame24.jpg', '/content/drive/MyDrive/MLProject/outputframes/frame25.jpg', '/content/drive/MyDrive/MLProject/outputframes/frame26.jpg', '/content/drive/MyDrive/MLProject/outputframes/frame27.jpg', '/content/drive/MyDrive/MLProject/outputframes/frame28.jpg', '/content/drive/MyDrive/MLProject/outputframes/frame29.jpg', '/content/drive/MyDrive/MLProject/outputframes/frame30.jpg', '/content/drive/MyDrive/MLProject/outputframes/frame31.jpg', '/content/drive/MyDrive/MLProject/outputframes/frame32.jpg', '/content/drive/MyDrive/MLProject/outputframes/frame33.jpg', '/content/drive/MyDrive/MLProject/outputframes/frame34.jpg', '/content/drive/MyDrive/MLProject/outputframes/frame35.jpg', '/content/drive/MyDrive/MLProject/outputframes/frame36.jpg', '/content/drive/MyDrive/MLProject/outputframes/frame37.jpg', '/content/drive/MyDrive/MLProject/outputframes/frame38.jpg', '/content/drive/MyDrive/MLProject/outputframes/frame39.jpg', '/content/drive/MyDrive/MLProject/outputframes/frame40.jpg', '/content/drive/MyDrive/MLProject/outputframes/frame41.jpg', '/content/drive/MyDrive/MLProject/outputframes/frame42.jpg', '/content/drive/MyDrive/MLProject/outputframes/frame43.jpg', '/content/drive/MyDrive/MLProject/outputframes/frame44.jpg', '/content/drive/MyDrive/MLProject/outputframes/frame45.jpg', '/content/drive/MyDrive/MLProject/outputframes/frame46.jpg', '/content/drive/MyDrive/MLProject/outputframes/frame47.jpg', '/content/drive/MyDrive/MLProject/outputframes/frame48.jpg', '/content/drive/MyDrive/MLProject/outputframes/frame49.jpg', '/content/drive/MyDrive/MLProject/outputframes/frame50.jpg', '/content/drive/MyDrive/MLProject/outputframes/frame51.jpg', '/content/drive/MyDrive/MLProject/outputframes/frame52.jpg', '/content/drive/MyDrive/MLProject/outputframes/frame53.jpg', '/content/drive/MyDrive/MLProject/outputframes/frame54.jpg', '/content/drive/MyDrive/MLProject/outputframes/frame55.jpg', '/content/drive/MyDrive/MLProject/outputframes/frame56.jpg', '/content/drive/MyDrive/MLProject/outputframes/frame57.jpg', '/content/drive/MyDrive/MLProject/outputframes/frame58.jpg', '/content/drive/MyDrive/MLProject/outputframes/frame59.jpg', '/content/drive/MyDrive/MLProject/outputframes/frame60.jpg', '/content/drive/MyDrive/MLProject/outputframes/frame61.jpg', '/content/drive/MyDrive/MLProject/outputframes/frame62.jpg', '/content/drive/MyDrive/MLProject/outputframes/frame63.jpg', '/content/drive/MyDrive/MLProject/outputframes/frame64.jpg', '/content/drive/MyDrive/MLProject/outputframes/frame65.jpg', '/content/drive/MyDrive/MLProject/outputframes/frame66.jpg', '/content/drive/MyDrive/MLProject/outputframes/frame67.jpg', '/content/drive/MyDrive/MLProject/outputframes/frame68.jpg', '/content/drive/MyDrive/MLProject/outputframes/frame69.jpg', '/content/drive/MyDrive/MLProject/outputframes/frame70.jpg', '/content/drive/MyDrive/MLProject/outputframes/frame71.jpg', '/content/drive/MyDrive/MLProject/outputframes/frame72.jpg', '/content/drive/MyDrive/MLProject/outputframes/frame73.jpg', '/content/drive/MyDrive/MLProject/outputframes/frame74.jpg', '/content/drive/MyDrive/MLProject/outputframes/frame75.jpg', '/content/drive/MyDrive/MLProject/outputframes/frame76.jpg', '/content/drive/MyDrive/MLProject/outputframes/frame77.jpg', '/content/drive/MyDrive/MLProject/outputframes/frame78.jpg', '/content/drive/MyDrive/MLProject/outputframes/frame79.jpg', '/content/drive/MyDrive/MLProject/outputframes/frame80.jpg', '/content/drive/MyDrive/MLProject/outputframes/frame81.jpg', '/content/drive/MyDrive/MLProject/outputframes/frame82.jpg', '/content/drive/MyDrive/MLProject/outputframes/frame83.jpg', '/content/drive/MyDrive/MLProject/outputframes/frame84.jpg', '/content/drive/MyDrive/MLProject/outputframes/frame85.jpg', '/content/drive/MyDrive/MLProject/outputframes/frame86.jpg', '/content/drive/MyDrive/MLProject/outputframes/frame87.jpg', '/content/drive/MyDrive/MLProject/outputframes/frame88.jpg', '/content/drive/MyDrive/MLProject/outputframes/frame89.jpg', '/content/drive/MyDrive/MLProject/outputframes/frame90.jpg', '/content/drive/MyDrive/MLProject/outputframes/frame91.jpg', '/content/drive/MyDrive/MLProject/outputframes/frame92.jpg', '/content/drive/MyDrive/MLProject/outputframes/frame93.jpg', '/content/drive/MyDrive/MLProject/outputframes/frame94.jpg', '/content/drive/MyDrive/MLProject/outputframes/frame95.jpg', '/content/drive/MyDrive/MLProject/outputframes/frame96.jpg', '/content/drive/MyDrive/MLProject/outputframes/frame97.jpg', '/content/drive/MyDrive/MLProject/outputframes/frame98.jpg', '/content/drive/MyDrive/MLProject/outputframes/frame99.jpg', '/content/drive/MyDrive/MLProject/outputframes/frame100.jpg', '/content/drive/MyDrive/MLProject/outputframes/frame101.jpg', '/content/drive/MyDrive/MLProject/outputframes/frame102.jpg', '/content/drive/MyDrive/MLProject/outputframes/frame103.jpg', '/content/drive/MyDrive/MLProject/outputframes/frame104.jpg', '/content/drive/MyDrive/MLProject/outputframes/frame105.jpg', '/content/drive/MyDrive/MLProject/outputframes/frame106.jpg', '/content/drive/MyDrive/MLProject/outputframes/frame107.jpg', '/content/drive/MyDrive/MLProject/outputframes/frame108.jpg', '/content/drive/MyDrive/MLProject/outputframes/frame109.jpg', '/content/drive/MyDrive/MLProject/outputframes/frame110.jpg', '/content/drive/MyDrive/MLProject/outputframes/frame111.jpg', '/content/drive/MyDrive/MLProject/outputframes/frame112.jpg', '/content/drive/MyDrive/MLProject/outputframes/frame113.jpg', '/content/drive/MyDrive/MLProject/outputframes/frame114.jpg', '/content/drive/MyDrive/MLProject/outputframes/frame115.jpg', '/content/drive/MyDrive/MLProject/outputframes/frame116.jpg', '/content/drive/MyDrive/MLProject/outputframes/frame117.jpg', '/content/drive/MyDrive/MLProject/outputframes/frame118.jpg', '/content/drive/MyDrive/MLProject/outputframes/frame119.jpg', '/content/drive/MyDrive/MLProject/outputframes/frame120.jpg', '/content/drive/MyDrive/MLProject/outputframes/frame121.jpg', '/content/drive/MyDrive/MLProject/outputframes/frame122.jpg', '/content/drive/MyDrive/MLProject/outputframes/frame123.jpg', '/content/drive/MyDrive/MLProject/outputframes/frame124.jpg', '/content/drive/MyDrive/MLProject/outputframes/frame125.jpg', '/content/drive/MyDrive/MLProject/outputframes/frame126.jpg', '/content/drive/MyDrive/MLProject/outputframes/frame127.jpg', '/content/drive/MyDrive/MLProject/outputframes/frame128.jpg', '/content/drive/MyDrive/MLProject/outputframes/frame129.jpg', '/content/drive/MyDrive/MLProject/outputframes/frame130.jpg', '/content/drive/MyDrive/MLProject/outputframes/frame131.jpg', '/content/drive/MyDrive/MLProject/outputframes/frame132.jpg', '/content/drive/MyDrive/MLProject/outputframes/frame133.jpg', '/content/drive/MyDrive/MLProject/outputframes/frame134.jpg', '/content/drive/MyDrive/MLProject/outputframes/frame135.jpg', '/content/drive/MyDrive/MLProject/outputframes/frame136.jpg', '/content/drive/MyDrive/MLProject/outputframes/frame137.jpg', '/content/drive/MyDrive/MLProject/outputframes/frame138.jpg', '/content/drive/MyDrive/MLProject/outputframes/frame139.jpg', '/content/drive/MyDrive/MLProject/outputframes/frame140.jpg', '/content/drive/MyDrive/MLProject/outputframes/frame141.jpg', '/content/drive/MyDrive/MLProject/outputframes/frame142.jpg', '/content/drive/MyDrive/MLProject/outputframes/frame143.jpg', '/content/drive/MyDrive/MLProject/outputframes/frame144.jpg', '/content/drive/MyDrive/MLProject/outputframes/frame145.jpg', '/content/drive/MyDrive/MLProject/outputframes/frame146.jpg', '/content/drive/MyDrive/MLProject/outputframes/frame147.jpg', '/content/drive/MyDrive/MLProject/outputframes/frame148.jpg', '/content/drive/MyDrive/MLProject/outputframes/frame149.jpg', '/content/drive/MyDrive/MLProject/outputframes/frame150.jpg', '/content/drive/MyDrive/MLProject/outputframes/frame151.jpg', '/content/drive/MyDrive/MLProject/outputframes/frame152.jpg', '/content/drive/MyDrive/MLProject/outputframes/frame153.jpg', '/content/drive/MyDrive/MLProject/outputframes/frame154.jpg', '/content/drive/MyDrive/MLProject/outputframes/frame155.jpg', '/content/drive/MyDrive/MLProject/outputframes/frame156.jpg', '/content/drive/MyDrive/MLProject/outputframes/frame157.jpg', '/content/drive/MyDrive/MLProject/outputframes/frame158.jpg', '/content/drive/MyDrive/MLProject/outputframes/frame159.jpg', '/content/drive/MyDrive/MLProject/outputframes/frame160.jpg', '/content/drive/MyDrive/MLProject/outputframes/frame161.jpg', '/content/drive/MyDrive/MLProject/outputframes/frame162.jpg', '/content/drive/MyDrive/MLProject/outputframes/frame163.jpg', '/content/drive/MyDrive/MLProject/outputframes/frame164.jpg', '/content/drive/MyDrive/MLProject/outputframes/frame165.jpg', '/content/drive/MyDrive/MLProject/outputframes/frame166.jpg', '/content/drive/MyDrive/MLProject/outputframes/frame167.jpg', '/content/drive/MyDrive/MLProject/outputframes/frame168.jpg', '/content/drive/MyDrive/MLProject/outputframes/frame169.jpg', '/content/drive/MyDrive/MLProject/outputframes/frame170.jpg', '/content/drive/MyDrive/MLProject/outputframes/frame171.jpg', '/content/drive/MyDrive/MLProject/outputframes/frame172.jpg', '/content/drive/MyDrive/MLProject/outputframes/frame173.jpg', '/content/drive/MyDrive/MLProject/outputframes/frame174.jpg', '/content/drive/MyDrive/MLProject/outputframes/frame175.jpg', '/content/drive/MyDrive/MLProject/outputframes/frame176.jpg', '/content/drive/MyDrive/MLProject/outputframes/frame177.jpg', '/content/drive/MyDrive/MLProject/outputframes/frame178.jpg', '/content/drive/MyDrive/MLProject/outputframes/frame179.jpg', '/content/drive/MyDrive/MLProject/outputframes/frame180.jpg', '/content/drive/MyDrive/MLProject/outputframes/frame181.jpg', '/content/drive/MyDrive/MLProject/outputframes/frame182.jpg', '/content/drive/MyDrive/MLProject/outputframes/frame183.jpg', '/content/drive/MyDrive/MLProject/outputframes/frame184.jpg', '/content/drive/MyDrive/MLProject/outputframes/frame185.jpg', '/content/drive/MyDrive/MLProject/outputframes/frame186.jpg', '/content/drive/MyDrive/MLProject/outputframes/frame187.jpg', '/content/drive/MyDrive/MLProject/outputframes/frame188.jpg', '/content/drive/MyDrive/MLProject/outputframes/frame189.jpg', '/content/drive/MyDrive/MLProject/outputframes/frame190.jpg', '/content/drive/MyDrive/MLProject/outputframes/frame191.jpg', '/content/drive/MyDrive/MLProject/outputframes/frame192.jpg', '/content/drive/MyDrive/MLProject/outputframes/frame193.jpg', '/content/drive/MyDrive/MLProject/outputframes/frame194.jpg', '/content/drive/MyDrive/MLProject/outputframes/frame195.jpg', '/content/drive/MyDrive/MLProject/outputframes/frame196.jpg', '/content/drive/MyDrive/MLProject/outputframes/frame197.jpg', '/content/drive/MyDrive/MLProject/outputframes/frame198.jpg', '/content/drive/MyDrive/MLProject/outputframes/frame199.jpg', '/content/drive/MyDrive/MLProject/outputframes/frame200.jpg', '/content/drive/MyDrive/MLProject/outputframes/frame201.jpg', '/content/drive/MyDrive/MLProject/outputframes/frame202.jpg', '/content/drive/MyDrive/MLProject/outputframes/frame203.jpg', '/content/drive/MyDrive/MLProject/outputframes/frame204.jpg', '/content/drive/MyDrive/MLProject/outputframes/frame205.jpg', '/content/drive/MyDrive/MLProject/outputframes/frame206.jpg', '/content/drive/MyDrive/MLProject/outputframes/frame207.jpg', '/content/drive/MyDrive/MLProject/outputframes/frame208.jpg', '/content/drive/MyDrive/MLProject/outputframes/frame209.jpg', '/content/drive/MyDrive/MLProject/outputframes/frame210.jpg', '/content/drive/MyDrive/MLProject/outputframes/frame211.jpg', '/content/drive/MyDrive/MLProject/outputframes/frame212.jpg', '/content/drive/MyDrive/MLProject/outputframes/frame213.jpg', '/content/drive/MyDrive/MLProject/outputframes/frame214.jpg', '/content/drive/MyDrive/MLProject/outputframes/frame215.jpg', '/content/drive/MyDrive/MLProject/outputframes/frame216.jpg', '/content/drive/MyDrive/MLProject/outputframes/frame217.jpg', '/content/drive/MyDrive/MLProject/outputframes/frame218.jpg', '/content/drive/MyDrive/MLProject/outputframes/frame219.jpg', '/content/drive/MyDrive/MLProject/outputframes/frame220.jpg', '/content/drive/MyDrive/MLProject/outputframes/frame221.jpg', '/content/drive/MyDrive/MLProject/outputframes/frame222.jpg', '/content/drive/MyDrive/MLProject/outputframes/frame223.jpg', '/content/drive/MyDrive/MLProject/outputframes/frame224.jpg', '/content/drive/MyDrive/MLProject/outputframes/frame225.jpg', '/content/drive/MyDrive/MLProject/outputframes/frame226.jpg', '/content/drive/MyDrive/MLProject/outputframes/frame227.jpg', '/content/drive/MyDrive/MLProject/outputframes/frame228.jpg', '/content/drive/MyDrive/MLProject/outputframes/frame229.jpg', '/content/drive/MyDrive/MLProject/outputframes/frame230.jpg', '/content/drive/MyDrive/MLProject/outputframes/frame231.jpg', '/content/drive/MyDrive/MLProject/outputframes/frame232.jpg', '/content/drive/MyDrive/MLProject/outputframes/frame233.jpg', '/content/drive/MyDrive/MLProject/outputframes/frame234.jpg', '/content/drive/MyDrive/MLProject/outputframes/frame235.jpg', '/content/drive/MyDrive/MLProject/outputframes/frame236.jpg', '/content/drive/MyDrive/MLProject/outputframes/frame237.jpg', '/content/drive/MyDrive/MLProject/outputframes/frame238.jpg', '/content/drive/MyDrive/MLProject/outputframes/frame239.jpg', '/content/drive/MyDrive/MLProject/outputframes/frame240.jpg', '/content/drive/MyDrive/MLProject/outputframes/frame241.jpg', '/content/drive/MyDrive/MLProject/outputframes/frame242.jpg', '/content/drive/MyDrive/MLProject/outputframes/frame243.jpg', '/content/drive/MyDrive/MLProject/outputframes/frame244.jpg', '/content/drive/MyDrive/MLProject/outputframes/frame245.jpg', '/content/drive/MyDrive/MLProject/outputframes/frame246.jpg', '/content/drive/MyDrive/MLProject/outputframes/frame247.jpg', '/content/drive/MyDrive/MLProject/outputframes/frame248.jpg', '/content/drive/MyDrive/MLProject/outputframes/frame249.jpg', '/content/drive/MyDrive/MLProject/outputframes/frame250.jpg', '/content/drive/MyDrive/MLProject/outputframes/frame251.jpg', '/content/drive/MyDrive/MLProject/outputframes/frame252.jpg', '/content/drive/MyDrive/MLProject/outputframes/frame253.jpg', '/content/drive/MyDrive/MLProject/outputframes/frame254.jpg', '/content/drive/MyDrive/MLProject/outputframes/frame255.jpg', '/content/drive/MyDrive/MLProject/outputframes/frame256.jpg', '/content/drive/MyDrive/MLProject/outputframes/frame257.jpg', '/content/drive/MyDrive/MLProject/outputframes/frame258.jpg', '/content/drive/MyDrive/MLProject/outputframes/frame259.jpg', '/content/drive/MyDrive/MLProject/outputframes/frame260.jpg', '/content/drive/MyDrive/MLProject/outputframes/frame261.jpg', '/content/drive/MyDrive/MLProject/outputframes/frame262.jpg', '/content/drive/MyDrive/MLProject/outputframes/frame263.jpg', '/content/drive/MyDrive/MLProject/outputframes/frame264.jpg', '/content/drive/MyDrive/MLProject/outputframes/frame265.jpg', '/content/drive/MyDrive/MLProject/outputframes/frame266.jpg', '/content/drive/MyDrive/MLProject/outputframes/frame267.jpg', '/content/drive/MyDrive/MLProject/outputframes/frame268.jpg', '/content/drive/MyDrive/MLProject/outputframes/frame269.jpg', '/content/drive/MyDrive/MLProject/outputframes/frame270.jpg', '/content/drive/MyDrive/MLProject/outputframes/frame271.jpg', '/content/drive/MyDrive/MLProject/outputframes/frame272.jpg', '/content/drive/MyDrive/MLProject/outputframes/frame273.jpg', '/content/drive/MyDrive/MLProject/outputframes/frame274.jpg', '/content/drive/MyDrive/MLProject/outputframes/frame275.jpg', '/content/drive/MyDrive/MLProject/outputframes/frame276.jpg', '/content/drive/MyDrive/MLProject/outputframes/frame277.jpg', '/content/drive/MyDrive/MLProject/outputframes/frame278.jpg', '/content/drive/MyDrive/MLProject/outputframes/frame279.jpg', '/content/drive/MyDrive/MLProject/outputframes/frame280.jpg', '/content/drive/MyDrive/MLProject/outputframes/frame281.jpg', '/content/drive/MyDrive/MLProject/outputframes/frame282.jpg', '/content/drive/MyDrive/MLProject/outputframes/frame283.jpg', '/content/drive/MyDrive/MLProject/outputframes/frame284.jpg', '/content/drive/MyDrive/MLProject/outputframes/frame285.jpg', '/content/drive/MyDrive/MLProject/outputframes/frame286.jpg', '/content/drive/MyDrive/MLProject/outputframes/frame287.jpg', '/content/drive/MyDrive/MLProject/outputframes/frame288.jpg', '/content/drive/MyDrive/MLProject/outputframes/frame289.jpg', '/content/drive/MyDrive/MLProject/outputframes/frame290.jpg', '/content/drive/MyDrive/MLProject/outputframes/frame291.jpg', '/content/drive/MyDrive/MLProject/outputframes/frame292.jpg', '/content/drive/MyDrive/MLProject/outputframes/frame293.jpg', '/content/drive/MyDrive/MLProject/outputframes/frame294.jpg', '/content/drive/MyDrive/MLProject/outputframes/frame295.jpg', '/content/drive/MyDrive/MLProject/outputframes/frame296.jpg', '/content/drive/MyDrive/MLProject/outputframes/frame297.jpg', '/content/drive/MyDrive/MLProject/outputframes/frame298.jpg', '/content/drive/MyDrive/MLProject/outputframes/frame299.jpg', '/content/drive/MyDrive/MLProject/outputframes/frame300.jpg', '/content/drive/MyDrive/MLProject/outputframes/frame301.jpg', '/content/drive/MyDrive/MLProject/outputframes/frame302.jpg', '/content/drive/MyDrive/MLProject/outputframes/frame303.jpg', '/content/drive/MyDrive/MLProject/outputframes/frame304.jpg', '/content/drive/MyDrive/MLProject/outputframes/frame305.jpg', '/content/drive/MyDrive/MLProject/outputframes/frame306.jpg', '/content/drive/MyDrive/MLProject/outputframes/frame307.jpg', '/content/drive/MyDrive/MLProject/outputframes/frame308.jpg', '/content/drive/MyDrive/MLProject/outputframes/frame309.jpg', '/content/drive/MyDrive/MLProject/outputframes/frame310.jpg', '/content/drive/MyDrive/MLProject/outputframes/frame311.jpg', '/content/drive/MyDrive/MLProject/outputframes/frame312.jpg', '/content/drive/MyDrive/MLProject/outputframes/frame313.jpg', '/content/drive/MyDrive/MLProject/outputframes/frame314.jpg', '/content/drive/MyDrive/MLProject/outputframes/frame315.jpg', '/content/drive/MyDrive/MLProject/outputframes/frame316.jpg', '/content/drive/MyDrive/MLProject/outputframes/frame317.jpg', '/content/drive/MyDrive/MLProject/outputframes/frame318.jpg', '/content/drive/MyDrive/MLProject/outputframes/frame319.jpg', '/content/drive/MyDrive/MLProject/outputframes/frame320.jpg', '/content/drive/MyDrive/MLProject/outputframes/frame321.jpg', '/content/drive/MyDrive/MLProject/outputframes/frame322.jpg', '/content/drive/MyDrive/MLProject/outputframes/frame323.jpg', '/content/drive/MyDrive/MLProject/outputframes/frame324.jpg', '/content/drive/MyDrive/MLProject/outputframes/frame325.jpg', '/content/drive/MyDrive/MLProject/outputframes/frame326.jpg', '/content/drive/MyDrive/MLProject/outputframes/frame327.jpg', '/content/drive/MyDrive/MLProject/outputframes/frame328.jpg', '/content/drive/MyDrive/MLProject/outputframes/frame329.jpg', '/content/drive/MyDrive/MLProject/outputframes/frame330.jpg', '/content/drive/MyDrive/MLProject/outputframes/frame331.jpg', '/content/drive/MyDrive/MLProject/outputframes/frame332.jpg', '/content/drive/MyDrive/MLProject/outputframes/frame333.jpg', '/content/drive/MyDrive/MLProject/outputframes/frame334.jpg', '/content/drive/MyDrive/MLProject/outputframes/frame335.jpg', '/content/drive/MyDrive/MLProject/outputframes/frame336.jpg', '/content/drive/MyDrive/MLProject/outputframes/frame337.jpg', '/content/drive/MyDrive/MLProject/outputframes/frame338.jpg', '/content/drive/MyDrive/MLProject/outputframes/frame339.jpg', '/content/drive/MyDrive/MLProject/outputframes/frame340.jpg', '/content/drive/MyDrive/MLProject/outputframes/frame341.jpg', '/content/drive/MyDrive/MLProject/outputframes/frame342.jpg', '/content/drive/MyDrive/MLProject/outputframes/frame343.jpg', '/content/drive/MyDrive/MLProject/outputframes/frame344.jpg', '/content/drive/MyDrive/MLProject/outputframes/frame345.jpg', '/content/drive/MyDrive/MLProject/outputframes/frame346.jpg', '/content/drive/MyDrive/MLProject/outputframes/frame347.jpg', '/content/drive/MyDrive/MLProject/outputframes/frame348.jpg', '/content/drive/MyDrive/MLProject/outputframes/frame349.jpg', '/content/drive/MyDrive/MLProject/outputframes/frame350.jpg', '/content/drive/MyDrive/MLProject/outputframes/frame351.jpg', '/content/drive/MyDrive/MLProject/outputframes/frame352.jpg', '/content/drive/MyDrive/MLProject/outputframes/frame353.jpg', '/content/drive/MyDrive/MLProject/outputframes/frame354.jpg', '/content/drive/MyDrive/MLProject/outputframes/frame355.jpg', '/content/drive/MyDrive/MLProject/outputframes/frame356.jpg', '/content/drive/MyDrive/MLProject/outputframes/frame357.jpg', '/content/drive/MyDrive/MLProject/outputframes/frame358.jpg', '/content/drive/MyDrive/MLProject/outputframes/frame359.jpg', '/content/drive/MyDrive/MLProject/outputframes/frame360.jpg', '/content/drive/MyDrive/MLProject/outputframes/frame361.jpg', '/content/drive/MyDrive/MLProject/outputframes/frame362.jpg', '/content/drive/MyDrive/MLProject/outputframes/frame363.jpg', '/content/drive/MyDrive/MLProject/outputframes/frame364.jpg', '/content/drive/MyDrive/MLProject/outputframes/frame365.jpg', '/content/drive/MyDrive/MLProject/outputframes/frame366.jpg', '/content/drive/MyDrive/MLProject/outputframes/frame367.jpg', '/content/drive/MyDrive/MLProject/outputframes/frame368.jpg', '/content/drive/MyDrive/MLProject/outputframes/frame369.jpg', '/content/drive/MyDrive/MLProject/outputframes/frame370.jpg', '/content/drive/MyDrive/MLProject/outputframes/frame371.jpg', '/content/drive/MyDrive/MLProject/outputframes/frame372.jpg', '/content/drive/MyDrive/MLProject/outputframes/frame373.jpg', '/content/drive/MyDrive/MLProject/outputframes/frame374.jpg', '/content/drive/MyDrive/MLProject/outputframes/frame375.jpg', '/content/drive/MyDrive/MLProject/outputframes/frame376.jpg', '/content/drive/MyDrive/MLProject/outputframes/frame377.jpg', '/content/drive/MyDrive/MLProject/outputframes/frame378.jpg', '/content/drive/MyDrive/MLProject/outputframes/frame379.jpg', '/content/drive/MyDrive/MLProject/outputframes/frame380.jpg', '/content/drive/MyDrive/MLProject/outputframes/frame381.jpg', '/content/drive/MyDrive/MLProject/outputframes/frame382.jpg', '/content/drive/MyDrive/MLProject/outputframes/frame383.jpg', '/content/drive/MyDrive/MLProject/outputframes/frame384.jpg', '/content/drive/MyDrive/MLProject/outputframes/frame385.jpg', '/content/drive/MyDrive/MLProject/outputframes/frame386.jpg', '/content/drive/MyDrive/MLProject/outputframes/frame387.jpg', '/content/drive/MyDrive/MLProject/outputframes/frame388.jpg', '/content/drive/MyDrive/MLProject/outputframes/frame389.jpg', '/content/drive/MyDrive/MLProject/outputframes/frame390.jpg', '/content/drive/MyDrive/MLProject/outputframes/frame391.jpg', '/content/drive/MyDrive/MLProject/outputframes/frame392.jpg', '/content/drive/MyDrive/MLProject/outputframes/frame393.jpg', '/content/drive/MyDrive/MLProject/outputframes/frame394.jpg', '/content/drive/MyDrive/MLProject/outputframes/frame395.jpg', '/content/drive/MyDrive/MLProject/outputframes/frame396.jpg', '/content/drive/MyDrive/MLProject/outputframes/frame397.jpg', '/content/drive/MyDrive/MLProject/outputframes/frame398.jpg', '/content/drive/MyDrive/MLProject/outputframes/frame399.jpg', '/content/drive/MyDrive/MLProject/outputframes/frame400.jpg', '/content/drive/MyDrive/MLProject/outputframes/frame401.jpg', '/content/drive/MyDrive/MLProject/outputframes/frame402.jpg', '/content/drive/MyDrive/MLProject/outputframes/frame403.jpg', '/content/drive/MyDrive/MLProject/outputframes/frame404.jpg', '/content/drive/MyDrive/MLProject/outputframes/frame405.jpg', '/content/drive/MyDrive/MLProject/outputframes/frame406.jpg', '/content/drive/MyDrive/MLProject/outputframes/frame407.jpg', '/content/drive/MyDrive/MLProject/outputframes/frame408.jpg', '/content/drive/MyDrive/MLProject/outputframes/frame409.jpg', '/content/drive/MyDrive/MLProject/outputframes/frame410.jpg', '/content/drive/MyDrive/MLProject/outputframes/frame411.jpg', '/content/drive/MyDrive/MLProject/outputframes/frame412.jpg', '/content/drive/MyDrive/MLProject/outputframes/frame413.jpg', '/content/drive/MyDrive/MLProject/outputframes/frame414.jpg', '/content/drive/MyDrive/MLProject/outputframes/frame415.jpg', '/content/drive/MyDrive/MLProject/outputframes/frame416.jpg', '/content/drive/MyDrive/MLProject/outputframes/frame417.jpg', '/content/drive/MyDrive/MLProject/outputframes/frame418.jpg', '/content/drive/MyDrive/MLProject/outputframes/frame419.jpg', '/content/drive/MyDrive/MLProject/outputframes/frame420.jpg', '/content/drive/MyDrive/MLProject/outputframes/frame421.jpg', '/content/drive/MyDrive/MLProject/outputframes/frame422.jpg', '/content/drive/MyDrive/MLProject/outputframes/frame423.jpg', '/content/drive/MyDrive/MLProject/outputframes/frame424.jpg', '/content/drive/MyDrive/MLProject/outputframes/frame425.jpg', '/content/drive/MyDrive/MLProject/outputframes/frame426.jpg', '/content/drive/MyDrive/MLProject/outputframes/frame427.jpg', '/content/drive/MyDrive/MLProject/outputframes/frame428.jpg', '/content/drive/MyDrive/MLProject/outputframes/frame429.jpg', '/content/drive/MyDrive/MLProject/outputframes/frame430.jpg', '/content/drive/MyDrive/MLProject/outputframes/frame431.jpg', '/content/drive/MyDrive/MLProject/outputframes/frame432.jpg', '/content/drive/MyDrive/MLProject/outputframes/frame433.jpg', '/content/drive/MyDrive/MLProject/outputframes/frame434.jpg', '/content/drive/MyDrive/MLProject/outputframes/frame435.jpg', '/content/drive/MyDrive/MLProject/outputframes/frame436.jpg', '/content/drive/MyDrive/MLProject/outputframes/frame437.jpg', '/content/drive/MyDrive/MLProject/outputframes/frame438.jpg', '/content/drive/MyDrive/MLProject/outputframes/frame439.jpg', '/content/drive/MyDrive/MLProject/outputframes/frame440.jpg', '/content/drive/MyDrive/MLProject/outputframes/frame441.jpg', '/content/drive/MyDrive/MLProject/outputframes/frame442.jpg', '/content/drive/MyDrive/MLProject/outputframes/frame443.jpg', '/content/drive/MyDrive/MLProject/outputframes/frame444.jpg', '/content/drive/MyDrive/MLProject/outputframes/frame445.jpg', '/content/drive/MyDrive/MLProject/outputframes/frame446.jpg', '/content/drive/MyDrive/MLProject/outputframes/frame447.jpg', '/content/drive/MyDrive/MLProject/outputframes/frame448.jpg', '/content/drive/MyDrive/MLProject/outputframes/frame449.jpg', '/content/drive/MyDrive/MLProject/outputframes/frame450.jpg', '/content/drive/MyDrive/MLProject/outputframes/frame451.jpg', '/content/drive/MyDrive/MLProject/outputframes/frame452.jpg', '/content/drive/MyDrive/MLProject/outputframes/frame453.jpg', '/content/drive/MyDrive/MLProject/outputframes/frame454.jpg', '/content/drive/MyDrive/MLProject/outputframes/frame455.jpg', '/content/drive/MyDrive/MLProject/outputframes/frame456.jpg', '/content/drive/MyDrive/MLProject/outputframes/frame457.jpg', '/content/drive/MyDrive/MLProject/outputframes/frame458.jpg', '/content/drive/MyDrive/MLProject/outputframes/frame459.jpg', '/content/drive/MyDrive/MLProject/outputframes/frame460.jpg', '/content/drive/MyDrive/MLProject/outputframes/frame461.jpg', '/content/drive/MyDrive/MLProject/outputframes/frame462.jpg', '/content/drive/MyDrive/MLProject/outputframes/frame463.jpg', '/content/drive/MyDrive/MLProject/outputframes/frame464.jpg', '/content/drive/MyDrive/MLProject/outputframes/frame465.jpg', '/content/drive/MyDrive/MLProject/outputframes/frame466.jpg', '/content/drive/MyDrive/MLProject/outputframes/frame467.jpg', '/content/drive/MyDrive/MLProject/outputframes/frame468.jpg', '/content/drive/MyDrive/MLProject/outputframes/frame469.jpg', '/content/drive/MyDrive/MLProject/outputframes/frame470.jpg', '/content/drive/MyDrive/MLProject/outputframes/frame471.jpg', '/content/drive/MyDrive/MLProject/outputframes/frame472.jpg', '/content/drive/MyDrive/MLProject/outputframes/frame473.jpg', '/content/drive/MyDrive/MLProject/outputframes/frame474.jpg', '/content/drive/MyDrive/MLProject/outputframes/frame475.jpg', '/content/drive/MyDrive/MLProject/outputframes/frame476.jpg', '/content/drive/MyDrive/MLProject/outputframes/frame477.jpg', '/content/drive/MyDrive/MLProject/outputframes/frame478.jpg', '/content/drive/MyDrive/MLProject/outputframes/frame479.jpg', '/content/drive/MyDrive/MLProject/outputframes/frame480.jpg', '/content/drive/MyDrive/MLProject/outputframes/frame481.jpg', '/content/drive/MyDrive/MLProject/outputframes/frame482.jpg', '/content/drive/MyDrive/MLProject/outputframes/frame483.jpg', '/content/drive/MyDrive/MLProject/outputframes/frame484.jpg', '/content/drive/MyDrive/MLProject/outputframes/frame485.jpg', '/content/drive/MyDrive/MLProject/outputframes/frame486.jpg', '/content/drive/MyDrive/MLProject/outputframes/frame487.jpg', '/content/drive/MyDrive/MLProject/outputframes/frame488.jpg', '/content/drive/MyDrive/MLProject/outputframes/frame489.jpg', '/content/drive/MyDrive/MLProject/outputframes/frame490.jpg', '/content/drive/MyDrive/MLProject/outputframes/frame491.jpg', '/content/drive/MyDrive/MLProject/outputframes/frame492.jpg', '/content/drive/MyDrive/MLProject/outputframes/frame493.jpg', '/content/drive/MyDrive/MLProject/outputframes/frame494.jpg', '/content/drive/MyDrive/MLProject/outputframes/frame495.jpg', '/content/drive/MyDrive/MLProject/outputframes/frame496.jpg', '/content/drive/MyDrive/MLProject/outputframes/frame497.jpg', '/content/drive/MyDrive/MLProject/outputframes/frame498.jpg', '/content/drive/MyDrive/MLProject/outputframes/frame499.jpg', '/content/drive/MyDrive/MLProject/outputframes/frame500.jpg', '/content/drive/MyDrive/MLProject/outputframes/frame501.jpg', '/content/drive/MyDrive/MLProject/outputframes/frame502.jpg', '/content/drive/MyDrive/MLProject/outputframes/frame503.jpg', '/content/drive/MyDrive/MLProject/outputframes/frame504.jpg', '/content/drive/MyDrive/MLProject/outputframes/frame505.jpg', '/content/drive/MyDrive/MLProject/outputframes/frame506.jpg', '/content/drive/MyDrive/MLProject/outputframes/frame507.jpg', '/content/drive/MyDrive/MLProject/outputframes/frame508.jpg', '/content/drive/MyDrive/MLProject/outputframes/frame509.jpg', '/content/drive/MyDrive/MLProject/outputframes/frame510.jpg', '/content/drive/MyDrive/MLProject/outputframes/frame511.jpg', '/content/drive/MyDrive/MLProject/outputframes/frame512.jpg', '/content/drive/MyDrive/MLProject/outputframes/frame513.jpg', '/content/drive/MyDrive/MLProject/outputframes/frame514.jpg', '/content/drive/MyDrive/MLProject/outputframes/frame515.jpg', '/content/drive/MyDrive/MLProject/outputframes/frame516.jpg', '/content/drive/MyDrive/MLProject/outputframes/frame517.jpg', '/content/drive/MyDrive/MLProject/outputframes/frame518.jpg', '/content/drive/MyDrive/MLProject/outputframes/frame519.jpg', '/content/drive/MyDrive/MLProject/outputframes/frame520.jpg', '/content/drive/MyDrive/MLProject/outputframes/frame521.jpg', '/content/drive/MyDrive/MLProject/outputframes/frame522.jpg', '/content/drive/MyDrive/MLProject/outputframes/frame523.jpg', '/content/drive/MyDrive/MLProject/outputframes/frame524.jpg', '/content/drive/MyDrive/MLProject/outputframes/frame525.jpg', '/content/drive/MyDrive/MLProject/outputframes/frame526.jpg', '/content/drive/MyDrive/MLProject/outputframes/frame527.jpg', '/content/drive/MyDrive/MLProject/outputframes/frame528.jpg', '/content/drive/MyDrive/MLProject/outputframes/frame529.jpg', '/content/drive/MyDrive/MLProject/outputframes/frame530.jpg', '/content/drive/MyDrive/MLProject/outputframes/frame531.jpg', '/content/drive/MyDrive/MLProject/outputframes/frame532.jpg', '/content/drive/MyDrive/MLProject/outputframes/frame533.jpg', '/content/drive/MyDrive/MLProject/outputframes/frame534.jpg', '/content/drive/MyDrive/MLProject/outputframes/frame535.jpg', '/content/drive/MyDrive/MLProject/outputframes/frame536.jpg', '/content/drive/MyDrive/MLProject/outputframes/frame537.jpg', '/content/drive/MyDrive/MLProject/outputframes/frame538.jpg', '/content/drive/MyDrive/MLProject/outputframes/frame539.jpg', '/content/drive/MyDrive/MLProject/outputframes/frame540.jpg', '/content/drive/MyDrive/MLProject/outputframes/frame541.jpg', '/content/drive/MyDrive/MLProject/outputframes/frame542.jpg', '/content/drive/MyDrive/MLProject/outputframes/frame543.jpg', '/content/drive/MyDrive/MLProject/outputframes/frame544.jpg', '/content/drive/MyDrive/MLProject/outputframes/frame545.jpg', '/content/drive/MyDrive/MLProject/outputframes/frame546.jpg', '/content/drive/MyDrive/MLProject/outputframes/frame547.jpg', '/content/drive/MyDrive/MLProject/outputframes/frame548.jpg', '/content/drive/MyDrive/MLProject/outputframes/frame549.jpg', '/content/drive/MyDrive/MLProject/outputframes/frame550.jpg', '/content/drive/MyDrive/MLProject/outputframes/frame551.jpg', '/content/drive/MyDrive/MLProject/outputframes/frame552.jpg', '/content/drive/MyDrive/MLProject/outputframes/frame553.jpg', '/content/drive/MyDrive/MLProject/outputframes/frame554.jpg', '/content/drive/MyDrive/MLProject/outputframes/frame555.jpg', '/content/drive/MyDrive/MLProject/outputframes/frame556.jpg', '/content/drive/MyDrive/MLProject/outputframes/frame557.jpg', '/content/drive/MyDrive/MLProject/outputframes/frame558.jpg', '/content/drive/MyDrive/MLProject/outputframes/frame559.jpg', '/content/drive/MyDrive/MLProject/outputframes/frame560.jpg', '/content/drive/MyDrive/MLProject/outputframes/frame561.jpg', '/content/drive/MyDrive/MLProject/outputframes/frame562.jpg', '/content/drive/MyDrive/MLProject/outputframes/frame563.jpg', '/content/drive/MyDrive/MLProject/outputframes/frame564.jpg', '/content/drive/MyDrive/MLProject/outputframes/frame565.jpg', '/content/drive/MyDrive/MLProject/outputframes/frame566.jpg', '/content/drive/MyDrive/MLProject/outputframes/frame567.jpg', '/content/drive/MyDrive/MLProject/outputframes/frame568.jpg', '/content/drive/MyDrive/MLProject/outputframes/frame569.jpg', '/content/drive/MyDrive/MLProject/outputframes/frame570.jpg', '/content/drive/MyDrive/MLProject/outputframes/frame571.jpg', '/content/drive/MyDrive/MLProject/outputframes/frame572.jpg', '/content/drive/MyDrive/MLProject/outputframes/frame573.jpg', '/content/drive/MyDrive/MLProject/outputframes/frame574.jpg', '/content/drive/MyDrive/MLProject/outputframes/frame575.jpg', '/content/drive/MyDrive/MLProject/outputframes/frame576.jpg', '/content/drive/MyDrive/MLProject/outputframes/frame577.jpg', '/content/drive/MyDrive/MLProject/outputframes/frame578.jpg', '/content/drive/MyDrive/MLProject/outputframes/frame579.jpg', '/content/drive/MyDrive/MLProject/outputframes/frame580.jpg', '/content/drive/MyDrive/MLProject/outputframes/frame581.jpg', '/content/drive/MyDrive/MLProject/outputframes/frame582.jpg', '/content/drive/MyDrive/MLProject/outputframes/frame583.jpg', '/content/drive/MyDrive/MLProject/outputframes/frame584.jpg', '/content/drive/MyDrive/MLProject/outputframes/frame585.jpg', '/content/drive/MyDrive/MLProject/outputframes/frame586.jpg', '/content/drive/MyDrive/MLProject/outputframes/frame587.jpg', '/content/drive/MyDrive/MLProject/outputframes/frame588.jpg', '/content/drive/MyDrive/MLProject/outputframes/frame589.jpg', '/content/drive/MyDrive/MLProject/outputframes/frame590.jpg', '/content/drive/MyDrive/MLProject/outputframes/frame591.jpg', '/content/drive/MyDrive/MLProject/outputframes/frame592.jpg', '/content/drive/MyDrive/MLProject/outputframes/frame593.jpg', '/content/drive/MyDrive/MLProject/outputframes/frame594.jpg', '/content/drive/MyDrive/MLProject/outputframes/frame595.jpg', '/content/drive/MyDrive/MLProject/outputframes/frame596.jpg', '/content/drive/MyDrive/MLProject/outputframes/frame597.jpg', '/content/drive/MyDrive/MLProject/outputframes/frame598.jpg', '/content/drive/MyDrive/MLProject/outputframes/frame599.jpg', '/content/drive/MyDrive/MLProject/outputframes/frame600.jpg', '/content/drive/MyDrive/MLProject/outputframes/frame601.jpg', '/content/drive/MyDrive/MLProject/outputframes/frame602.jpg', '/content/drive/MyDrive/MLProject/outputframes/frame603.jpg', '/content/drive/MyDrive/MLProject/outputframes/frame604.jpg', '/content/drive/MyDrive/MLProject/outputframes/frame605.jpg', '/content/drive/MyDrive/MLProject/outputframes/frame606.jpg', '/content/drive/MyDrive/MLProject/outputframes/frame607.jpg', '/content/drive/MyDrive/MLProject/outputframes/frame608.jpg', '/content/drive/MyDrive/MLProject/outputframes/frame609.jpg']\n",
            "[MoviePy] >>>> Building video /content/drive/MyDrive/MLProject/outputvideo/my_video_dlib.mp4\n",
            "[MoviePy] Writing video /content/drive/MyDrive/MLProject/outputvideo/my_video_dlib.mp4\n"
          ]
        },
        {
          "output_type": "stream",
          "name": "stderr",
          "text": [
            "100%|██████████| 611/611 [00:09<00:00, 62.20it/s]\n"
          ]
        },
        {
          "output_type": "stream",
          "name": "stdout",
          "text": [
            "[MoviePy] Done.\n",
            "[MoviePy] >>>> Video ready: /content/drive/MyDrive/MLProject/outputvideo/my_video_dlib.mp4 \n",
            "\n"
          ]
        }
      ],
      "source": [
        "\n",
        "import os\n",
        "import moviepy.video.io.ImageSequenceClip\n",
        "image_folder='/content/drive/MyDrive/MLProject/outputframes/'\n",
        "\n",
        "fps=20\n",
        "# /content/outimage0.jpg\n",
        "\n",
        "\n",
        "image_files = [os.path.join(image_folder,img)\n",
        "               for img in os.listdir(image_folder)\n",
        "               \n",
        "               if img.endswith(\".jpg\")]\n",
        "image_files= natsorted(image_files)        \n",
        "print(image_files)        \n",
        "clip = moviepy.video.io.ImageSequenceClip.ImageSequenceClip(image_files, fps=fps)\n",
        "clip.write_videofile('/content/drive/MyDrive/MLProject/outputvideo/my_video_dlib.mp4')"
      ]
    },
    {
      "cell_type": "code",
      "execution_count": null,
      "metadata": {
        "id": "46jG4_NpvJlD"
      },
      "outputs": [],
      "source": [
        ""
      ]
    }
  ],
  "metadata": {
    "accelerator": "GPU",
    "colab": {
      "collapsed_sections": [],
      "name": "ModleMLIv1dlib.ipynb",
      "provenance": []
    },
    "kernelspec": {
      "display_name": "Python 3",
      "name": "python3"
    },
    "language_info": {
      "name": "python"
    }
  },
  "nbformat": 4,
  "nbformat_minor": 0
}